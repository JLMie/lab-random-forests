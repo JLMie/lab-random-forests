{
 "cells": [
  {
   "cell_type": "code",
   "execution_count": 1,
   "id": "06f0d95c",
   "metadata": {},
   "outputs": [],
   "source": [
    "import pandas as pd\n",
    "\n",
    "donors_tar = pd.read_csv('target.csv')\n",
    "donors_num = pd.read_csv('categorical.csv')\n",
    "donors_cat = pd.read_csv('numerical.csv')\n",
    "\n",
    "Donors = pd.concat([donors_tar,donors_cat, donors_num], axis=1)"
   ]
  },
  {
   "cell_type": "code",
   "execution_count": 2,
   "id": "21891904",
   "metadata": {},
   "outputs": [
    {
     "data": {
      "text/html": [
       "<div>\n",
       "<style scoped>\n",
       "    .dataframe tbody tr th:only-of-type {\n",
       "        vertical-align: middle;\n",
       "    }\n",
       "\n",
       "    .dataframe tbody tr th {\n",
       "        vertical-align: top;\n",
       "    }\n",
       "\n",
       "    .dataframe thead th {\n",
       "        text-align: right;\n",
       "    }\n",
       "</style>\n",
       "<table border=\"1\" class=\"dataframe\">\n",
       "  <thead>\n",
       "    <tr style=\"text-align: right;\">\n",
       "      <th></th>\n",
       "      <th>TARGET_B</th>\n",
       "      <th>TARGET_D</th>\n",
       "    </tr>\n",
       "  </thead>\n",
       "  <tbody>\n",
       "    <tr>\n",
       "      <th>0</th>\n",
       "      <td>0</td>\n",
       "      <td>0.0</td>\n",
       "    </tr>\n",
       "    <tr>\n",
       "      <th>1</th>\n",
       "      <td>0</td>\n",
       "      <td>0.0</td>\n",
       "    </tr>\n",
       "    <tr>\n",
       "      <th>2</th>\n",
       "      <td>0</td>\n",
       "      <td>0.0</td>\n",
       "    </tr>\n",
       "    <tr>\n",
       "      <th>3</th>\n",
       "      <td>0</td>\n",
       "      <td>0.0</td>\n",
       "    </tr>\n",
       "    <tr>\n",
       "      <th>4</th>\n",
       "      <td>0</td>\n",
       "      <td>0.0</td>\n",
       "    </tr>\n",
       "    <tr>\n",
       "      <th>...</th>\n",
       "      <td>...</td>\n",
       "      <td>...</td>\n",
       "    </tr>\n",
       "    <tr>\n",
       "      <th>95407</th>\n",
       "      <td>0</td>\n",
       "      <td>0.0</td>\n",
       "    </tr>\n",
       "    <tr>\n",
       "      <th>95408</th>\n",
       "      <td>0</td>\n",
       "      <td>0.0</td>\n",
       "    </tr>\n",
       "    <tr>\n",
       "      <th>95409</th>\n",
       "      <td>0</td>\n",
       "      <td>0.0</td>\n",
       "    </tr>\n",
       "    <tr>\n",
       "      <th>95410</th>\n",
       "      <td>1</td>\n",
       "      <td>18.0</td>\n",
       "    </tr>\n",
       "    <tr>\n",
       "      <th>95411</th>\n",
       "      <td>0</td>\n",
       "      <td>0.0</td>\n",
       "    </tr>\n",
       "  </tbody>\n",
       "</table>\n",
       "<p>95412 rows × 2 columns</p>\n",
       "</div>"
      ],
      "text/plain": [
       "       TARGET_B  TARGET_D\n",
       "0             0       0.0\n",
       "1             0       0.0\n",
       "2             0       0.0\n",
       "3             0       0.0\n",
       "4             0       0.0\n",
       "...         ...       ...\n",
       "95407         0       0.0\n",
       "95408         0       0.0\n",
       "95409         0       0.0\n",
       "95410         1      18.0\n",
       "95411         0       0.0\n",
       "\n",
       "[95412 rows x 2 columns]"
      ]
     },
     "execution_count": 2,
     "metadata": {},
     "output_type": "execute_result"
    }
   ],
   "source": [
    "donors_tar"
   ]
  },
  {
   "cell_type": "code",
   "execution_count": 3,
   "id": "deb9adb9",
   "metadata": {},
   "outputs": [],
   "source": [
    "X = Donors.drop(['TARGET_B','TARGET_D'], axis = 1) #boston features\n",
    "y = Donors['TARGET_B'] #Labels "
   ]
  },
  {
   "cell_type": "code",
   "execution_count": 4,
   "id": "e6ab6438",
   "metadata": {},
   "outputs": [],
   "source": [
    "from sklearn.model_selection import train_test_split\n",
    "X_train, X_test, y_train, y_test = train_test_split(X, y, test_size=0.3, random_state=42)"
   ]
  },
  {
   "cell_type": "code",
   "execution_count": 5,
   "id": "4a5a8a13",
   "metadata": {},
   "outputs": [],
   "source": [
    "train_set = pd.concat([X_train, y_train], axis=1)"
   ]
  },
  {
   "cell_type": "markdown",
   "id": "bf2c3c42",
   "metadata": {},
   "source": [
    "#### Apply the Random Forests algorithm but this time only by upscaling the data to deal with the imbalance."
   ]
  },
  {
   "cell_type": "code",
   "execution_count": 6,
   "id": "a1283865",
   "metadata": {},
   "outputs": [
    {
     "name": "stdout",
     "output_type": "stream",
     "text": [
      "(63369, 338) (3419, 338)\n"
     ]
    }
   ],
   "source": [
    "from sklearn.utils import resample # WHY we are just oversampling the train one?\n",
    "\n",
    "no_donate = train_set[train_set['TARGET_B'] == 0] #we are splitting in the majority and the minority \n",
    "yes_donate = train_set[train_set['TARGET_B'] == 1] # this is the minority \n",
    "\n",
    "print(no_donate.shape, yes_donate.shape)"
   ]
  },
  {
   "cell_type": "code",
   "execution_count": 7,
   "id": "f6bbb4f3",
   "metadata": {},
   "outputs": [],
   "source": [
    "from sklearn.utils import resample\n",
    "yes_donate_upsampled = resample(yes_donate, \n",
    "                                    replace=True,\n",
    "                                    n_samples = len(no_donate),\n",
    "                                    random_state=42)"
   ]
  },
  {
   "cell_type": "code",
   "execution_count": 8,
   "id": "4b16216d",
   "metadata": {},
   "outputs": [
    {
     "name": "stdout",
     "output_type": "stream",
     "text": [
      "(63369, 338)\n",
      "(63369, 338)\n"
     ]
    }
   ],
   "source": [
    "print(no_donate.shape)\n",
    "print(yes_donate_upsampled.shape)"
   ]
  },
  {
   "cell_type": "code",
   "execution_count": 9,
   "id": "10950053",
   "metadata": {},
   "outputs": [],
   "source": [
    "# Now we have the same numbers of values in both categories. 0 and 1. "
   ]
  },
  {
   "cell_type": "code",
   "execution_count": 10,
   "id": "1fb90b52",
   "metadata": {},
   "outputs": [],
   "source": [
    "trainset_ups = pd.concat([no_donate, yes_donate_upsampled], axis=0)"
   ]
  },
  {
   "cell_type": "code",
   "execution_count": 11,
   "id": "e9953af8",
   "metadata": {},
   "outputs": [
    {
     "data": {
      "text/plain": [
       "(126738, 338)"
      ]
     },
     "execution_count": 11,
     "metadata": {},
     "output_type": "execute_result"
    }
   ],
   "source": [
    "trainset_ups.shape"
   ]
  },
  {
   "cell_type": "code",
   "execution_count": 12,
   "id": "8544fef3",
   "metadata": {},
   "outputs": [],
   "source": [
    "X_trainset_ups = trainset_ups.drop(['TARGET_B'], axis = 1) #boston features\n",
    "y_trainset_ups = trainset_ups['TARGET_B'] #Labels "
   ]
  },
  {
   "cell_type": "code",
   "execution_count": 13,
   "id": "c374274b",
   "metadata": {},
   "outputs": [
    {
     "data": {
      "text/plain": [
       "['STATE', 'HOMEOWNR', 'GENDER', 'RFA_2R', 'RFA_2A', 'GEOCODE2', 'DOMAIN_A']"
      ]
     },
     "execution_count": 13,
     "metadata": {},
     "output_type": "execute_result"
    }
   ],
   "source": [
    "categorial_heads = X_trainset_ups.select_dtypes(include=['object']).columns.tolist()\n",
    "categorial_heads"
   ]
  },
  {
   "cell_type": "code",
   "execution_count": 14,
   "id": "6c0c5082",
   "metadata": {},
   "outputs": [
    {
     "data": {
      "text/plain": [
       "(126738, 337)"
      ]
     },
     "metadata": {},
     "output_type": "display_data"
    },
    {
     "data": {
      "text/plain": [
       "(126738,)"
      ]
     },
     "metadata": {},
     "output_type": "display_data"
    },
    {
     "data": {
      "text/plain": [
       "(28624, 337)"
      ]
     },
     "metadata": {},
     "output_type": "display_data"
    },
    {
     "data": {
      "text/plain": [
       "(28624,)"
      ]
     },
     "metadata": {},
     "output_type": "display_data"
    }
   ],
   "source": [
    "display(X_trainset_ups.shape)\n",
    "display(y_trainset_ups.shape)\n",
    "display(X_test.shape) # We oversampled just in train set, why?\n",
    "display(y_test.shape) # We oversampled just in train set, why?"
   ]
  },
  {
   "cell_type": "code",
   "execution_count": 15,
   "id": "c2a8a52d",
   "metadata": {},
   "outputs": [],
   "source": [
    "import numpy as np"
   ]
  },
  {
   "cell_type": "code",
   "execution_count": 16,
   "id": "4ee6b3aa",
   "metadata": {},
   "outputs": [],
   "source": [
    "X_trainset_ups_num = X_trainset_ups.select_dtypes(np.number)\n",
    "X_trainset_ups_cat = X_trainset_ups.select_dtypes(object) \n",
    "### Why Should not create a test_set? test_set = X_test y_test\n",
    "## Because we are not going to feed the model with that, right?\n",
    "# The model will be trained with an upbanlance and proccesed(encode and scaled). WHY? "
   ]
  },
  {
   "cell_type": "code",
   "execution_count": 17,
   "id": "b57f7a23",
   "metadata": {},
   "outputs": [],
   "source": [
    "X_test_num = X_test.select_dtypes(np.number) \n",
    "X_test_cat = X_test.select_dtypes(object)"
   ]
  },
  {
   "cell_type": "code",
   "execution_count": 18,
   "id": "f2bd5e7d",
   "metadata": {},
   "outputs": [
    {
     "data": {
      "text/html": [
       "<div>\n",
       "<style scoped>\n",
       "    .dataframe tbody tr th:only-of-type {\n",
       "        vertical-align: middle;\n",
       "    }\n",
       "\n",
       "    .dataframe tbody tr th {\n",
       "        vertical-align: top;\n",
       "    }\n",
       "\n",
       "    .dataframe thead th {\n",
       "        text-align: right;\n",
       "    }\n",
       "</style>\n",
       "<table border=\"1\" class=\"dataframe\">\n",
       "  <thead>\n",
       "    <tr style=\"text-align: right;\">\n",
       "      <th></th>\n",
       "      <th>TCODE</th>\n",
       "      <th>AGE</th>\n",
       "      <th>INCOME</th>\n",
       "      <th>WEALTH1</th>\n",
       "      <th>HIT</th>\n",
       "      <th>MALEMILI</th>\n",
       "      <th>MALEVET</th>\n",
       "      <th>VIETVETS</th>\n",
       "      <th>WWIIVETS</th>\n",
       "      <th>LOCALGOV</th>\n",
       "      <th>...</th>\n",
       "      <th>DOB_YR</th>\n",
       "      <th>DOB_MM</th>\n",
       "      <th>MINRDATE_YR</th>\n",
       "      <th>MINRDATE_MM</th>\n",
       "      <th>MAXRDATE_YR</th>\n",
       "      <th>MAXRDATE_MM</th>\n",
       "      <th>LASTDATE_YR</th>\n",
       "      <th>LASTDATE_MM</th>\n",
       "      <th>FIRSTDATE_YR</th>\n",
       "      <th>FIRSTDATE_MM</th>\n",
       "    </tr>\n",
       "  </thead>\n",
       "  <tbody>\n",
       "    <tr>\n",
       "      <th>33476</th>\n",
       "      <td>1</td>\n",
       "      <td>54.0</td>\n",
       "      <td>7</td>\n",
       "      <td>2</td>\n",
       "      <td>4</td>\n",
       "      <td>0</td>\n",
       "      <td>34</td>\n",
       "      <td>23</td>\n",
       "      <td>49</td>\n",
       "      <td>2</td>\n",
       "      <td>...</td>\n",
       "      <td>44</td>\n",
       "      <td>1</td>\n",
       "      <td>95</td>\n",
       "      <td>10</td>\n",
       "      <td>92</td>\n",
       "      <td>10</td>\n",
       "      <td>95</td>\n",
       "      <td>10</td>\n",
       "      <td>92</td>\n",
       "      <td>1</td>\n",
       "    </tr>\n",
       "    <tr>\n",
       "      <th>87878</th>\n",
       "      <td>28</td>\n",
       "      <td>28.0</td>\n",
       "      <td>6</td>\n",
       "      <td>9</td>\n",
       "      <td>0</td>\n",
       "      <td>3</td>\n",
       "      <td>36</td>\n",
       "      <td>39</td>\n",
       "      <td>18</td>\n",
       "      <td>7</td>\n",
       "      <td>...</td>\n",
       "      <td>70</td>\n",
       "      <td>1</td>\n",
       "      <td>96</td>\n",
       "      <td>3</td>\n",
       "      <td>96</td>\n",
       "      <td>3</td>\n",
       "      <td>96</td>\n",
       "      <td>3</td>\n",
       "      <td>96</td>\n",
       "      <td>3</td>\n",
       "    </tr>\n",
       "    <tr>\n",
       "      <th>4784</th>\n",
       "      <td>28</td>\n",
       "      <td>74.0</td>\n",
       "      <td>5</td>\n",
       "      <td>9</td>\n",
       "      <td>0</td>\n",
       "      <td>5</td>\n",
       "      <td>36</td>\n",
       "      <td>32</td>\n",
       "      <td>33</td>\n",
       "      <td>4</td>\n",
       "      <td>...</td>\n",
       "      <td>24</td>\n",
       "      <td>1</td>\n",
       "      <td>93</td>\n",
       "      <td>12</td>\n",
       "      <td>96</td>\n",
       "      <td>3</td>\n",
       "      <td>96</td>\n",
       "      <td>3</td>\n",
       "      <td>87</td>\n",
       "      <td>1</td>\n",
       "    </tr>\n",
       "    <tr>\n",
       "      <th>85573</th>\n",
       "      <td>1</td>\n",
       "      <td>60.0</td>\n",
       "      <td>6</td>\n",
       "      <td>8</td>\n",
       "      <td>0</td>\n",
       "      <td>1</td>\n",
       "      <td>37</td>\n",
       "      <td>40</td>\n",
       "      <td>22</td>\n",
       "      <td>5</td>\n",
       "      <td>...</td>\n",
       "      <td>38</td>\n",
       "      <td>1</td>\n",
       "      <td>95</td>\n",
       "      <td>2</td>\n",
       "      <td>95</td>\n",
       "      <td>10</td>\n",
       "      <td>95</td>\n",
       "      <td>10</td>\n",
       "      <td>95</td>\n",
       "      <td>2</td>\n",
       "    </tr>\n",
       "    <tr>\n",
       "      <th>68933</th>\n",
       "      <td>0</td>\n",
       "      <td>80.0</td>\n",
       "      <td>4</td>\n",
       "      <td>9</td>\n",
       "      <td>12</td>\n",
       "      <td>0</td>\n",
       "      <td>45</td>\n",
       "      <td>17</td>\n",
       "      <td>63</td>\n",
       "      <td>5</td>\n",
       "      <td>...</td>\n",
       "      <td>18</td>\n",
       "      <td>1</td>\n",
       "      <td>95</td>\n",
       "      <td>6</td>\n",
       "      <td>95</td>\n",
       "      <td>6</td>\n",
       "      <td>95</td>\n",
       "      <td>6</td>\n",
       "      <td>95</td>\n",
       "      <td>6</td>\n",
       "    </tr>\n",
       "    <tr>\n",
       "      <th>...</th>\n",
       "      <td>...</td>\n",
       "      <td>...</td>\n",
       "      <td>...</td>\n",
       "      <td>...</td>\n",
       "      <td>...</td>\n",
       "      <td>...</td>\n",
       "      <td>...</td>\n",
       "      <td>...</td>\n",
       "      <td>...</td>\n",
       "      <td>...</td>\n",
       "      <td>...</td>\n",
       "      <td>...</td>\n",
       "      <td>...</td>\n",
       "      <td>...</td>\n",
       "      <td>...</td>\n",
       "      <td>...</td>\n",
       "      <td>...</td>\n",
       "      <td>...</td>\n",
       "      <td>...</td>\n",
       "      <td>...</td>\n",
       "      <td>...</td>\n",
       "    </tr>\n",
       "    <tr>\n",
       "      <th>39226</th>\n",
       "      <td>0</td>\n",
       "      <td>75.0</td>\n",
       "      <td>6</td>\n",
       "      <td>6</td>\n",
       "      <td>21</td>\n",
       "      <td>6</td>\n",
       "      <td>41</td>\n",
       "      <td>46</td>\n",
       "      <td>27</td>\n",
       "      <td>14</td>\n",
       "      <td>...</td>\n",
       "      <td>23</td>\n",
       "      <td>1</td>\n",
       "      <td>96</td>\n",
       "      <td>2</td>\n",
       "      <td>96</td>\n",
       "      <td>2</td>\n",
       "      <td>96</td>\n",
       "      <td>2</td>\n",
       "      <td>96</td>\n",
       "      <td>2</td>\n",
       "    </tr>\n",
       "    <tr>\n",
       "      <th>23926</th>\n",
       "      <td>0</td>\n",
       "      <td>60.0</td>\n",
       "      <td>5</td>\n",
       "      <td>9</td>\n",
       "      <td>0</td>\n",
       "      <td>0</td>\n",
       "      <td>23</td>\n",
       "      <td>36</td>\n",
       "      <td>30</td>\n",
       "      <td>4</td>\n",
       "      <td>...</td>\n",
       "      <td>38</td>\n",
       "      <td>1</td>\n",
       "      <td>92</td>\n",
       "      <td>5</td>\n",
       "      <td>92</td>\n",
       "      <td>3</td>\n",
       "      <td>95</td>\n",
       "      <td>6</td>\n",
       "      <td>86</td>\n",
       "      <td>7</td>\n",
       "    </tr>\n",
       "    <tr>\n",
       "      <th>12881</th>\n",
       "      <td>2</td>\n",
       "      <td>62.0</td>\n",
       "      <td>1</td>\n",
       "      <td>9</td>\n",
       "      <td>0</td>\n",
       "      <td>0</td>\n",
       "      <td>37</td>\n",
       "      <td>31</td>\n",
       "      <td>48</td>\n",
       "      <td>8</td>\n",
       "      <td>...</td>\n",
       "      <td>36</td>\n",
       "      <td>1</td>\n",
       "      <td>87</td>\n",
       "      <td>5</td>\n",
       "      <td>92</td>\n",
       "      <td>4</td>\n",
       "      <td>96</td>\n",
       "      <td>2</td>\n",
       "      <td>86</td>\n",
       "      <td>8</td>\n",
       "    </tr>\n",
       "    <tr>\n",
       "      <th>62494</th>\n",
       "      <td>0</td>\n",
       "      <td>71.0</td>\n",
       "      <td>2</td>\n",
       "      <td>9</td>\n",
       "      <td>0</td>\n",
       "      <td>0</td>\n",
       "      <td>19</td>\n",
       "      <td>39</td>\n",
       "      <td>25</td>\n",
       "      <td>3</td>\n",
       "      <td>...</td>\n",
       "      <td>27</td>\n",
       "      <td>2</td>\n",
       "      <td>88</td>\n",
       "      <td>9</td>\n",
       "      <td>94</td>\n",
       "      <td>6</td>\n",
       "      <td>95</td>\n",
       "      <td>8</td>\n",
       "      <td>88</td>\n",
       "      <td>9</td>\n",
       "    </tr>\n",
       "    <tr>\n",
       "      <th>27778</th>\n",
       "      <td>2</td>\n",
       "      <td>52.0</td>\n",
       "      <td>4</td>\n",
       "      <td>8</td>\n",
       "      <td>0</td>\n",
       "      <td>0</td>\n",
       "      <td>25</td>\n",
       "      <td>19</td>\n",
       "      <td>40</td>\n",
       "      <td>6</td>\n",
       "      <td>...</td>\n",
       "      <td>46</td>\n",
       "      <td>1</td>\n",
       "      <td>93</td>\n",
       "      <td>10</td>\n",
       "      <td>95</td>\n",
       "      <td>10</td>\n",
       "      <td>95</td>\n",
       "      <td>10</td>\n",
       "      <td>93</td>\n",
       "      <td>10</td>\n",
       "    </tr>\n",
       "  </tbody>\n",
       "</table>\n",
       "<p>126738 rows × 330 columns</p>\n",
       "</div>"
      ],
      "text/plain": [
       "       TCODE   AGE  INCOME  WEALTH1  HIT  MALEMILI  MALEVET  VIETVETS  \\\n",
       "33476      1  54.0       7        2    4         0       34        23   \n",
       "87878     28  28.0       6        9    0         3       36        39   \n",
       "4784      28  74.0       5        9    0         5       36        32   \n",
       "85573      1  60.0       6        8    0         1       37        40   \n",
       "68933      0  80.0       4        9   12         0       45        17   \n",
       "...      ...   ...     ...      ...  ...       ...      ...       ...   \n",
       "39226      0  75.0       6        6   21         6       41        46   \n",
       "23926      0  60.0       5        9    0         0       23        36   \n",
       "12881      2  62.0       1        9    0         0       37        31   \n",
       "62494      0  71.0       2        9    0         0       19        39   \n",
       "27778      2  52.0       4        8    0         0       25        19   \n",
       "\n",
       "       WWIIVETS  LOCALGOV  ...  DOB_YR  DOB_MM  MINRDATE_YR  MINRDATE_MM  \\\n",
       "33476        49         2  ...      44       1           95           10   \n",
       "87878        18         7  ...      70       1           96            3   \n",
       "4784         33         4  ...      24       1           93           12   \n",
       "85573        22         5  ...      38       1           95            2   \n",
       "68933        63         5  ...      18       1           95            6   \n",
       "...         ...       ...  ...     ...     ...          ...          ...   \n",
       "39226        27        14  ...      23       1           96            2   \n",
       "23926        30         4  ...      38       1           92            5   \n",
       "12881        48         8  ...      36       1           87            5   \n",
       "62494        25         3  ...      27       2           88            9   \n",
       "27778        40         6  ...      46       1           93           10   \n",
       "\n",
       "       MAXRDATE_YR  MAXRDATE_MM  LASTDATE_YR  LASTDATE_MM  FIRSTDATE_YR  \\\n",
       "33476           92           10           95           10            92   \n",
       "87878           96            3           96            3            96   \n",
       "4784            96            3           96            3            87   \n",
       "85573           95           10           95           10            95   \n",
       "68933           95            6           95            6            95   \n",
       "...            ...          ...          ...          ...           ...   \n",
       "39226           96            2           96            2            96   \n",
       "23926           92            3           95            6            86   \n",
       "12881           92            4           96            2            86   \n",
       "62494           94            6           95            8            88   \n",
       "27778           95           10           95           10            93   \n",
       "\n",
       "       FIRSTDATE_MM  \n",
       "33476             1  \n",
       "87878             3  \n",
       "4784              1  \n",
       "85573             2  \n",
       "68933             6  \n",
       "...             ...  \n",
       "39226             2  \n",
       "23926             7  \n",
       "12881             8  \n",
       "62494             9  \n",
       "27778            10  \n",
       "\n",
       "[126738 rows x 330 columns]"
      ]
     },
     "execution_count": 18,
     "metadata": {},
     "output_type": "execute_result"
    }
   ],
   "source": [
    "X_trainset_ups_num"
   ]
  },
  {
   "cell_type": "markdown",
   "id": "ca558a12",
   "metadata": {},
   "source": [
    "#### One Hot Encode "
   ]
  },
  {
   "cell_type": "code",
   "execution_count": 19,
   "id": "25972089",
   "metadata": {},
   "outputs": [],
   "source": [
    "#ENCODING Train\n",
    "from sklearn.preprocessing import OneHotEncoder\n",
    "encoder = OneHotEncoder(drop='first').fit(X_trainset_ups_cat)\n",
    "encoded_categorical = encoder.transform(X_trainset_ups_cat).toarray()\n",
    "X_trainset_ups_cat_encoded = pd.DataFrame(encoded_categorical, columns=encoder.get_feature_names_out()) # needed to avoid error"
   ]
  },
  {
   "cell_type": "code",
   "execution_count": 20,
   "id": "8e923117",
   "metadata": {},
   "outputs": [],
   "source": [
    "#ENCODING TEST\n",
    "encoded_categorical = encoder.transform(X_test_cat).toarray()\n",
    "X_test_cat_encoded = pd.DataFrame(encoded_categorical, columns=encoder.get_feature_names_out())"
   ]
  },
  {
   "cell_type": "markdown",
   "id": "773d965e",
   "metadata": {},
   "source": [
    "#### StandardScaler"
   ]
  },
  {
   "cell_type": "code",
   "execution_count": 21,
   "id": "1aff042b",
   "metadata": {},
   "outputs": [],
   "source": [
    "from sklearn.preprocessing import StandardScaler"
   ]
  },
  {
   "cell_type": "code",
   "execution_count": 23,
   "id": "0bde39d1",
   "metadata": {
    "scrolled": true
   },
   "outputs": [],
   "source": [
    "# SCALING Train\n",
    "transformer_train = StandardScaler().fit(X_trainset_ups_num)\n",
    "x_standardized = transformer_train.transform(X_trainset_ups_num)\n",
    "\n",
    "X_trainset_ups_num_scaled = pd.DataFrame(x_standardized, columns=X_trainset_ups_num.columns)"
   ]
  },
  {
   "cell_type": "code",
   "execution_count": 25,
   "id": "79e64579",
   "metadata": {},
   "outputs": [],
   "source": [
    "# SCALING Test\n",
    "# Why we don't use here another transfromer. transformer_test = StandardScaler().fit(X_test_num)?\n",
    "x_standardized = transformer_train.transform(X_test_num)\n",
    "\n",
    "X_test_num_scaled = pd.DataFrame(x_standardized, columns=X_test_num.columns)"
   ]
  },
  {
   "cell_type": "code",
   "execution_count": 26,
   "id": "e3da6236",
   "metadata": {},
   "outputs": [],
   "source": [
    "X_train_processed = pd.concat([X_trainset_ups_cat_encoded, X_trainset_ups_num_scaled], axis=1)\n",
    "X_test_processed = pd.concat([X_test_cat_encoded, X_test_num_scaled], axis=1)"
   ]
  },
  {
   "cell_type": "code",
   "execution_count": 27,
   "id": "4e33cc05",
   "metadata": {},
   "outputs": [],
   "source": [
    "y_trainset_ups.reset_index(drop=True, inplace=True)\n",
    "y_train.reset_index(drop=True, inplace=True)"
   ]
  },
  {
   "cell_type": "code",
   "execution_count": 28,
   "id": "f5fe74f0",
   "metadata": {},
   "outputs": [
    {
     "data": {
      "text/plain": [
       "(126738, 354)"
      ]
     },
     "execution_count": 28,
     "metadata": {},
     "output_type": "execute_result"
    }
   ],
   "source": [
    "X_train_processed.shape"
   ]
  },
  {
   "cell_type": "code",
   "execution_count": 29,
   "id": "bdc0955d",
   "metadata": {},
   "outputs": [
    {
     "data": {
      "text/plain": [
       "(28624, 354)"
      ]
     },
     "execution_count": 29,
     "metadata": {},
     "output_type": "execute_result"
    }
   ],
   "source": [
    "X_test_processed.shape"
   ]
  },
  {
   "cell_type": "markdown",
   "id": "3b0259eb",
   "metadata": {},
   "source": [
    "### RANDOM FOREST WITHOUT SELECTING FEATURES. "
   ]
  },
  {
   "cell_type": "code",
   "execution_count": null,
   "id": "dc88151d",
   "metadata": {},
   "outputs": [],
   "source": [
    "#DecisionTree does not need be feed by scaled data. "
   ]
  },
  {
   "cell_type": "code",
   "execution_count": 30,
   "id": "dc6f1f44",
   "metadata": {},
   "outputs": [
    {
     "data": {
      "text/plain": [
       "(126738,)"
      ]
     },
     "execution_count": 30,
     "metadata": {},
     "output_type": "execute_result"
    }
   ],
   "source": [
    "y_trainset_ups.shape"
   ]
  },
  {
   "cell_type": "code",
   "execution_count": 32,
   "id": "b8d98c43",
   "metadata": {},
   "outputs": [
    {
     "data": {
      "text/plain": [
       "(66788,)"
      ]
     },
     "execution_count": 32,
     "metadata": {},
     "output_type": "execute_result"
    }
   ],
   "source": [
    "y_train.shape"
   ]
  },
  {
   "cell_type": "code",
   "execution_count": 33,
   "id": "b89526b6",
   "metadata": {},
   "outputs": [
    {
     "data": {
      "text/plain": [
       "(28624,)"
      ]
     },
     "execution_count": 33,
     "metadata": {},
     "output_type": "execute_result"
    }
   ],
   "source": [
    "y_test.shape"
   ]
  },
  {
   "cell_type": "code",
   "execution_count": 31,
   "id": "8515e668",
   "metadata": {},
   "outputs": [
    {
     "data": {
      "text/plain": [
       "(126738, 354)"
      ]
     },
     "execution_count": 31,
     "metadata": {},
     "output_type": "execute_result"
    }
   ],
   "source": [
    "X_train_processed.shape"
   ]
  },
  {
   "cell_type": "code",
   "execution_count": null,
   "id": "44cdcc43",
   "metadata": {},
   "outputs": [],
   "source": [
    "X_test_processed.shape"
   ]
  },
  {
   "cell_type": "code",
   "execution_count": 34,
   "id": "e012cd25",
   "metadata": {},
   "outputs": [
    {
     "name": "stdout",
     "output_type": "stream",
     "text": [
      "TrainSet =  0.6262525840710758\n",
      "TestSet =  0.6072177193963108\n"
     ]
    }
   ],
   "source": [
    "## ValueError: Found input variables with inconsistent numbers of samples: [126738, 66788]\n",
    "# 1124 check_consistent_length(X, y)\n",
    "\n",
    "from sklearn.ensemble import RandomForestClassifier\n",
    "clf = RandomForestClassifier(max_depth=5,\n",
    "                             min_samples_split=20,\n",
    "                             min_samples_leaf =20)\n",
    "clf.fit(X_train_processed, y_trainset_ups)\n",
    "print('TrainSet = ',clf.score(X_train_processed, y_trainset_ups))\n",
    "print('TestSet = ',clf.score(X_test_processed, y_test))"
   ]
  },
  {
   "cell_type": "code",
   "execution_count": null,
   "id": "73750aa0",
   "metadata": {},
   "outputs": [],
   "source": [
    "# If the score is close to each other, it is working pretty well. "
   ]
  },
  {
   "cell_type": "markdown",
   "id": "68d98801",
   "metadata": {},
   "source": [
    "### FEATURES SELECTION"
   ]
  },
  {
   "cell_type": "code",
   "execution_count": null,
   "id": "47876d24",
   "metadata": {},
   "outputs": [],
   "source": [
    "# Variance: is the average of square of the average distance to the mean"
   ]
  },
  {
   "cell_type": "code",
   "execution_count": null,
   "id": "edaf833f",
   "metadata": {},
   "outputs": [],
   "source": [
    "#### If I insert the X2 it is already upbalance so the mean variance is so so low. \n",
    "### So, threshold is not goint to remove anything\n",
    "## I have to scalate the columns (just numericals?) from the dataframe NOT upsammpled. In the lesson just numerical are fitted. \n",
    "# I need to split the train_set (should I include the test one?, I mean the whole dataset?) in cat and num to scaleted them and fit in the threshold. "
   ]
  },
  {
   "cell_type": "code",
   "execution_count": null,
   "id": "405c3393",
   "metadata": {},
   "outputs": [],
   "source": [
    "# I did everything with the ups ones, that's why I need to "
   ]
  },
  {
   "cell_type": "code",
   "execution_count": null,
   "id": "42533e17",
   "metadata": {},
   "outputs": [],
   "source": [
    "## I SHOULD NOT APPLY THE FEATURE SELECTION METHOD WITH UPBALANCE SET, \n",
    "# because it would be based on artificial set instead the real one. \n",
    "# I need to repeat again esc and endcode becasuse I did before after upbalance. "
   ]
  },
  {
   "cell_type": "code",
   "execution_count": 35,
   "id": "95eb9f2e",
   "metadata": {},
   "outputs": [],
   "source": [
    "X_train_set_num = train_set.select_dtypes(np.number)"
   ]
  },
  {
   "cell_type": "code",
   "execution_count": 36,
   "id": "c56d336b",
   "metadata": {},
   "outputs": [],
   "source": [
    "X_train_set_num = X_train_set_num.drop(['TARGET_B'], axis=1)"
   ]
  },
  {
   "cell_type": "code",
   "execution_count": null,
   "id": "34e812a7",
   "metadata": {},
   "outputs": [],
   "source": [
    "#SCALATION. "
   ]
  },
  {
   "cell_type": "code",
   "execution_count": 38,
   "id": "21398d6a",
   "metadata": {},
   "outputs": [],
   "source": [
    "transformer_2 = StandardScaler().fit(X_train_set_num)\n",
    "x_standardized = transformer_2.transform(X_train_set_num)\n",
    "X_train_set_num_scaled = pd.DataFrame(x_standardized, columns=X_train_set_num.columns)"
   ]
  },
  {
   "cell_type": "code",
   "execution_count": 1,
   "id": "af00dc8d",
   "metadata": {},
   "outputs": [],
   "source": [
    "# I am goint to use just numerical because in the lesson Jan applied just numericals. \n",
    "# Maybe because in that dataset has just numericals? "
   ]
  },
  {
   "cell_type": "code",
   "execution_count": 39,
   "id": "36ab6088",
   "metadata": {},
   "outputs": [
    {
     "name": "stdout",
     "output_type": "stream",
     "text": [
      "(66788, 330)\n",
      "(66788, 330)\n"
     ]
    }
   ],
   "source": [
    "from sklearn.feature_selection import VarianceThreshold\n",
    "var_threshold = 0.02\n",
    "\n",
    "# by default var_treshold is 0. But we want to remove the rows are constant and the ones are almost constant too.   \n",
    "# In practise we would scale, the columns first, and then apply threshold, or apply different treshold for different columns.\n",
    "sel = VarianceThreshold(threshold=var_threshold) \n",
    "\n",
    "#### two parameters: threshold and variance_threshold.\n",
    "### threshold parameter is the value that will be used to determine whether or not a feature should be included in the model.          \n",
    "## which means that any features with an absolute difference between their mean and standard deviation greater than \n",
    "# 0.02 (at least 2% of variation among all features) are not included in the model, they will be removed.\n",
    "\n",
    "sel = sel.fit(X_train_set_num_scaled) \n",
    "### Reviewing the lesson. I nor sure if I should to insert just the train or whole numericals scales \n",
    "## with a variable that concat. X_train_num_scaled + X_test_num_scaled. \n",
    "# However after encode categorical they are al well numbers, so....I am confused.\n",
    "\n",
    "## Next, we create another variable called temp using sel as its input function and \n",
    "# then transform our training data into a DataFrame object using pd-learn library functions like fit() and transform().\n",
    "\n",
    "temp = sel.transform(X_train_set_num_scaled)\n",
    "temp = pd.DataFrame(temp)\n",
    "\n",
    "print(X_train_set_num_scaled.shape)\n",
    "print(temp.shape)"
   ]
  },
  {
   "cell_type": "code",
   "execution_count": 40,
   "id": "2d685362",
   "metadata": {},
   "outputs": [
    {
     "data": {
      "text/html": [
       "<div>\n",
       "<style scoped>\n",
       "    .dataframe tbody tr th:only-of-type {\n",
       "        vertical-align: middle;\n",
       "    }\n",
       "\n",
       "    .dataframe tbody tr th {\n",
       "        vertical-align: top;\n",
       "    }\n",
       "\n",
       "    .dataframe thead th {\n",
       "        text-align: right;\n",
       "    }\n",
       "</style>\n",
       "<table border=\"1\" class=\"dataframe\">\n",
       "  <thead>\n",
       "    <tr style=\"text-align: right;\">\n",
       "      <th></th>\n",
       "      <th>0</th>\n",
       "      <th>1</th>\n",
       "      <th>2</th>\n",
       "      <th>3</th>\n",
       "      <th>4</th>\n",
       "      <th>5</th>\n",
       "      <th>6</th>\n",
       "      <th>7</th>\n",
       "      <th>8</th>\n",
       "      <th>9</th>\n",
       "      <th>...</th>\n",
       "      <th>320</th>\n",
       "      <th>321</th>\n",
       "      <th>322</th>\n",
       "      <th>323</th>\n",
       "      <th>324</th>\n",
       "      <th>325</th>\n",
       "      <th>326</th>\n",
       "      <th>327</th>\n",
       "      <th>328</th>\n",
       "      <th>329</th>\n",
       "    </tr>\n",
       "  </thead>\n",
       "  <tbody>\n",
       "    <tr>\n",
       "      <th>0</th>\n",
       "      <td>-0.054700</td>\n",
       "      <td>-0.524460</td>\n",
       "      <td>1.686015</td>\n",
       "      <td>-1.873265</td>\n",
       "      <td>0.080260</td>\n",
       "      <td>-0.207965</td>\n",
       "      <td>0.310681</td>\n",
       "      <td>-0.444573</td>\n",
       "      <td>0.924770</td>\n",
       "      <td>-1.110277</td>\n",
       "      <td>...</td>\n",
       "      <td>0.687803</td>\n",
       "      <td>-0.622058</td>\n",
       "      <td>0.948900</td>\n",
       "      <td>0.932450</td>\n",
       "      <td>-1.346385</td>\n",
       "      <td>0.766742</td>\n",
       "      <td>-0.788747</td>\n",
       "      <td>0.784328</td>\n",
       "      <td>0.219517</td>\n",
       "      <td>-1.279678</td>\n",
       "    </tr>\n",
       "    <tr>\n",
       "      <th>1</th>\n",
       "      <td>-0.027146</td>\n",
       "      <td>-2.323864</td>\n",
       "      <td>1.097775</td>\n",
       "      <td>0.717605</td>\n",
       "      <td>-0.361279</td>\n",
       "      <td>0.402718</td>\n",
       "      <td>0.485408</td>\n",
       "      <td>0.615620</td>\n",
       "      <td>-0.829593</td>\n",
       "      <td>0.036430</td>\n",
       "      <td>...</td>\n",
       "      <td>1.864638</td>\n",
       "      <td>-0.622058</td>\n",
       "      <td>1.322158</td>\n",
       "      <td>-0.864799</td>\n",
       "      <td>0.950893</td>\n",
       "      <td>-0.984460</td>\n",
       "      <td>1.116868</td>\n",
       "      <td>-0.864639</td>\n",
       "      <td>1.461010</td>\n",
       "      <td>-0.776055</td>\n",
       "    </tr>\n",
       "    <tr>\n",
       "      <th>2</th>\n",
       "      <td>-0.055721</td>\n",
       "      <td>-0.040005</td>\n",
       "      <td>1.097775</td>\n",
       "      <td>0.717605</td>\n",
       "      <td>-0.361279</td>\n",
       "      <td>-0.207965</td>\n",
       "      <td>-0.475592</td>\n",
       "      <td>-0.312049</td>\n",
       "      <td>0.698401</td>\n",
       "      <td>0.036430</td>\n",
       "      <td>...</td>\n",
       "      <td>0.325699</td>\n",
       "      <td>2.679410</td>\n",
       "      <td>-0.917391</td>\n",
       "      <td>0.932450</td>\n",
       "      <td>-0.197746</td>\n",
       "      <td>0.516570</td>\n",
       "      <td>-0.788747</td>\n",
       "      <td>1.019894</td>\n",
       "      <td>-1.332349</td>\n",
       "      <td>-0.524243</td>\n",
       "    </tr>\n",
       "    <tr>\n",
       "      <th>3</th>\n",
       "      <td>-0.027146</td>\n",
       "      <td>0.859697</td>\n",
       "      <td>0.509535</td>\n",
       "      <td>0.717605</td>\n",
       "      <td>-0.361279</td>\n",
       "      <td>0.809840</td>\n",
       "      <td>0.485408</td>\n",
       "      <td>0.151785</td>\n",
       "      <td>0.019292</td>\n",
       "      <td>-0.651594</td>\n",
       "      <td>...</td>\n",
       "      <td>-0.217456</td>\n",
       "      <td>-0.622058</td>\n",
       "      <td>0.202384</td>\n",
       "      <td>1.445950</td>\n",
       "      <td>0.950893</td>\n",
       "      <td>-0.984460</td>\n",
       "      <td>1.116868</td>\n",
       "      <td>-0.864639</td>\n",
       "      <td>-1.332349</td>\n",
       "      <td>-1.279678</td>\n",
       "    </tr>\n",
       "    <tr>\n",
       "      <th>4</th>\n",
       "      <td>-0.054700</td>\n",
       "      <td>-0.109213</td>\n",
       "      <td>1.097775</td>\n",
       "      <td>0.347481</td>\n",
       "      <td>-0.361279</td>\n",
       "      <td>-0.004404</td>\n",
       "      <td>0.572771</td>\n",
       "      <td>0.681882</td>\n",
       "      <td>-0.603224</td>\n",
       "      <td>-0.422253</td>\n",
       "      <td>...</td>\n",
       "      <td>0.416225</td>\n",
       "      <td>-0.622058</td>\n",
       "      <td>0.948900</td>\n",
       "      <td>-1.121549</td>\n",
       "      <td>0.376574</td>\n",
       "      <td>0.766742</td>\n",
       "      <td>-0.788747</td>\n",
       "      <td>0.784328</td>\n",
       "      <td>1.150637</td>\n",
       "      <td>-1.027866</td>\n",
       "    </tr>\n",
       "  </tbody>\n",
       "</table>\n",
       "<p>5 rows × 330 columns</p>\n",
       "</div>"
      ],
      "text/plain": [
       "        0         1         2         3         4         5         6    \\\n",
       "0 -0.054700 -0.524460  1.686015 -1.873265  0.080260 -0.207965  0.310681   \n",
       "1 -0.027146 -2.323864  1.097775  0.717605 -0.361279  0.402718  0.485408   \n",
       "2 -0.055721 -0.040005  1.097775  0.717605 -0.361279 -0.207965 -0.475592   \n",
       "3 -0.027146  0.859697  0.509535  0.717605 -0.361279  0.809840  0.485408   \n",
       "4 -0.054700 -0.109213  1.097775  0.347481 -0.361279 -0.004404  0.572771   \n",
       "\n",
       "        7         8         9    ...       320       321       322       323  \\\n",
       "0 -0.444573  0.924770 -1.110277  ...  0.687803 -0.622058  0.948900  0.932450   \n",
       "1  0.615620 -0.829593  0.036430  ...  1.864638 -0.622058  1.322158 -0.864799   \n",
       "2 -0.312049  0.698401  0.036430  ...  0.325699  2.679410 -0.917391  0.932450   \n",
       "3  0.151785  0.019292 -0.651594  ... -0.217456 -0.622058  0.202384  1.445950   \n",
       "4  0.681882 -0.603224 -0.422253  ...  0.416225 -0.622058  0.948900 -1.121549   \n",
       "\n",
       "        324       325       326       327       328       329  \n",
       "0 -1.346385  0.766742 -0.788747  0.784328  0.219517 -1.279678  \n",
       "1  0.950893 -0.984460  1.116868 -0.864639  1.461010 -0.776055  \n",
       "2 -0.197746  0.516570 -0.788747  1.019894 -1.332349 -0.524243  \n",
       "3  0.950893 -0.984460  1.116868 -0.864639 -1.332349 -1.279678  \n",
       "4  0.376574  0.766742 -0.788747  0.784328  1.150637 -1.027866  \n",
       "\n",
       "[5 rows x 330 columns]"
      ]
     },
     "execution_count": 40,
     "metadata": {},
     "output_type": "execute_result"
    }
   ],
   "source": [
    "pd.DataFrame(temp).head()"
   ]
  },
  {
   "cell_type": "code",
   "execution_count": null,
   "id": "99024617",
   "metadata": {},
   "outputs": [],
   "source": []
  },
  {
   "cell_type": "markdown",
   "id": "cb7c5f59",
   "metadata": {},
   "source": [
    "#### I am going to run the same columns from the file review because I got 0."
   ]
  },
  {
   "cell_type": "code",
   "execution_count": null,
   "id": "169f27b8",
   "metadata": {},
   "outputs": [],
   "source": []
  },
  {
   "cell_type": "code",
   "execution_count": 41,
   "id": "5b98c8f0",
   "metadata": {},
   "outputs": [
    {
     "data": {
      "text/plain": [
       "330"
      ]
     },
     "execution_count": 41,
     "metadata": {},
     "output_type": "execute_result"
    }
   ],
   "source": [
    "#sel.variances_ > var_threshold\n",
    "#sel.get_support()\n",
    "#var_list = list(sel.get_support())\n",
    "#len(var_list)\n",
    "##  The code would return a list of all the variances that are less than or equal to the threshold.\n",
    "# I don't understand this section. "
   ]
  },
  {
   "cell_type": "code",
   "execution_count": 43,
   "id": "a87e5deb",
   "metadata": {},
   "outputs": [
    {
     "data": {
      "text/plain": [
       "330"
      ]
     },
     "execution_count": 43,
     "metadata": {},
     "output_type": "execute_result"
    }
   ],
   "source": [
    "#len(X_train_set_num_scaled.columns)"
   ]
  },
  {
   "cell_type": "code",
   "execution_count": 44,
   "id": "b5e72a41",
   "metadata": {},
   "outputs": [
    {
     "data": {
      "text/plain": [
       "330"
      ]
     },
     "execution_count": 44,
     "metadata": {},
     "output_type": "execute_result"
    }
   ],
   "source": [
    "#len(list(zip(X_train_set_num_scaled.columns,var_list)))"
   ]
  },
  {
   "cell_type": "code",
   "execution_count": 45,
   "id": "7d20a153",
   "metadata": {},
   "outputs": [
    {
     "data": {
      "text/plain": [
       "0"
      ]
     },
     "execution_count": 45,
     "metadata": {},
     "output_type": "execute_result"
    }
   ],
   "source": [
    "#drop_list = [col[0] for col in zip(X_train_set_num_scaled.columns,var_list) if col[1] == False]\n",
    "#len(drop_list)\n",
    "\n",
    "##The code attempts to be used to find a list of columns with support that \n",
    "# are greater than the variable threshold."
   ]
  },
  {
   "cell_type": "code",
   "execution_count": null,
   "id": "fe9d9aa8",
   "metadata": {},
   "outputs": [],
   "source": [
    "#??????"
   ]
  },
  {
   "cell_type": "code",
   "execution_count": null,
   "id": "3d878cc9",
   "metadata": {},
   "outputs": [],
   "source": [
    "['OSOURCE','SOLIH','VETERANS','ZIP','Unnamed: 0']"
   ]
  },
  {
   "cell_type": "code",
   "execution_count": 48,
   "id": "f1ecaea0",
   "metadata": {},
   "outputs": [
    {
     "data": {
      "text/html": [
       "<div>\n",
       "<style scoped>\n",
       "    .dataframe tbody tr th:only-of-type {\n",
       "        vertical-align: middle;\n",
       "    }\n",
       "\n",
       "    .dataframe tbody tr th {\n",
       "        vertical-align: top;\n",
       "    }\n",
       "\n",
       "    .dataframe thead th {\n",
       "        text-align: right;\n",
       "    }\n",
       "</style>\n",
       "<table border=\"1\" class=\"dataframe\">\n",
       "  <thead>\n",
       "    <tr style=\"text-align: right;\">\n",
       "      <th></th>\n",
       "      <th>STATE_FL</th>\n",
       "      <th>STATE_GA</th>\n",
       "      <th>STATE_IL</th>\n",
       "      <th>STATE_IN</th>\n",
       "      <th>STATE_MI</th>\n",
       "      <th>STATE_MO</th>\n",
       "      <th>STATE_NC</th>\n",
       "      <th>STATE_TX</th>\n",
       "      <th>STATE_WA</th>\n",
       "      <th>STATE_WI</th>\n",
       "      <th>...</th>\n",
       "      <th>DOB_YR</th>\n",
       "      <th>DOB_MM</th>\n",
       "      <th>MINRDATE_YR</th>\n",
       "      <th>MINRDATE_MM</th>\n",
       "      <th>MAXRDATE_YR</th>\n",
       "      <th>MAXRDATE_MM</th>\n",
       "      <th>LASTDATE_YR</th>\n",
       "      <th>LASTDATE_MM</th>\n",
       "      <th>FIRSTDATE_YR</th>\n",
       "      <th>FIRSTDATE_MM</th>\n",
       "    </tr>\n",
       "  </thead>\n",
       "  <tbody>\n",
       "    <tr>\n",
       "      <th>0</th>\n",
       "      <td>0.0</td>\n",
       "      <td>0.0</td>\n",
       "      <td>0.0</td>\n",
       "      <td>0.0</td>\n",
       "      <td>0.0</td>\n",
       "      <td>0.0</td>\n",
       "      <td>0.0</td>\n",
       "      <td>0.0</td>\n",
       "      <td>0.0</td>\n",
       "      <td>0.0</td>\n",
       "      <td>...</td>\n",
       "      <td>0.719928</td>\n",
       "      <td>-0.637765</td>\n",
       "      <td>0.971393</td>\n",
       "      <td>0.930427</td>\n",
       "      <td>-1.248993</td>\n",
       "      <td>0.764108</td>\n",
       "      <td>-0.839699</td>\n",
       "      <td>0.806585</td>\n",
       "      <td>0.293274</td>\n",
       "      <td>-1.293844</td>\n",
       "    </tr>\n",
       "    <tr>\n",
       "      <th>1</th>\n",
       "      <td>0.0</td>\n",
       "      <td>0.0</td>\n",
       "      <td>0.0</td>\n",
       "      <td>0.0</td>\n",
       "      <td>0.0</td>\n",
       "      <td>0.0</td>\n",
       "      <td>0.0</td>\n",
       "      <td>0.0</td>\n",
       "      <td>0.0</td>\n",
       "      <td>0.0</td>\n",
       "      <td>...</td>\n",
       "      <td>1.924882</td>\n",
       "      <td>-0.637765</td>\n",
       "      <td>1.343881</td>\n",
       "      <td>-0.878347</td>\n",
       "      <td>0.961829</td>\n",
       "      <td>-0.985003</td>\n",
       "      <td>1.007773</td>\n",
       "      <td>-0.821131</td>\n",
       "      <td>1.540983</td>\n",
       "      <td>-0.786380</td>\n",
       "    </tr>\n",
       "    <tr>\n",
       "      <th>2</th>\n",
       "      <td>0.0</td>\n",
       "      <td>0.0</td>\n",
       "      <td>0.0</td>\n",
       "      <td>0.0</td>\n",
       "      <td>0.0</td>\n",
       "      <td>0.0</td>\n",
       "      <td>0.0</td>\n",
       "      <td>0.0</td>\n",
       "      <td>0.0</td>\n",
       "      <td>0.0</td>\n",
       "      <td>...</td>\n",
       "      <td>-0.206961</td>\n",
       "      <td>-0.637765</td>\n",
       "      <td>0.226418</td>\n",
       "      <td>1.447219</td>\n",
       "      <td>0.961829</td>\n",
       "      <td>-0.985003</td>\n",
       "      <td>1.007773</td>\n",
       "      <td>-0.821131</td>\n",
       "      <td>-1.266362</td>\n",
       "      <td>-1.293844</td>\n",
       "    </tr>\n",
       "    <tr>\n",
       "      <th>3</th>\n",
       "      <td>0.0</td>\n",
       "      <td>0.0</td>\n",
       "      <td>0.0</td>\n",
       "      <td>0.0</td>\n",
       "      <td>0.0</td>\n",
       "      <td>0.0</td>\n",
       "      <td>0.0</td>\n",
       "      <td>1.0</td>\n",
       "      <td>0.0</td>\n",
       "      <td>0.0</td>\n",
       "      <td>...</td>\n",
       "      <td>0.441861</td>\n",
       "      <td>-0.637765</td>\n",
       "      <td>0.971393</td>\n",
       "      <td>-1.136743</td>\n",
       "      <td>0.409124</td>\n",
       "      <td>0.764108</td>\n",
       "      <td>-0.839699</td>\n",
       "      <td>0.806585</td>\n",
       "      <td>1.229055</td>\n",
       "      <td>-1.040112</td>\n",
       "    </tr>\n",
       "    <tr>\n",
       "      <th>4</th>\n",
       "      <td>0.0</td>\n",
       "      <td>0.0</td>\n",
       "      <td>0.0</td>\n",
       "      <td>0.0</td>\n",
       "      <td>0.0</td>\n",
       "      <td>0.0</td>\n",
       "      <td>0.0</td>\n",
       "      <td>0.0</td>\n",
       "      <td>0.0</td>\n",
       "      <td>0.0</td>\n",
       "      <td>...</td>\n",
       "      <td>-0.485027</td>\n",
       "      <td>-0.637765</td>\n",
       "      <td>0.971393</td>\n",
       "      <td>-0.103158</td>\n",
       "      <td>0.409124</td>\n",
       "      <td>-0.235384</td>\n",
       "      <td>-0.839699</td>\n",
       "      <td>-0.123538</td>\n",
       "      <td>1.229055</td>\n",
       "      <td>-0.025183</td>\n",
       "    </tr>\n",
       "    <tr>\n",
       "      <th>...</th>\n",
       "      <td>...</td>\n",
       "      <td>...</td>\n",
       "      <td>...</td>\n",
       "      <td>...</td>\n",
       "      <td>...</td>\n",
       "      <td>...</td>\n",
       "      <td>...</td>\n",
       "      <td>...</td>\n",
       "      <td>...</td>\n",
       "      <td>...</td>\n",
       "      <td>...</td>\n",
       "      <td>...</td>\n",
       "      <td>...</td>\n",
       "      <td>...</td>\n",
       "      <td>...</td>\n",
       "      <td>...</td>\n",
       "      <td>...</td>\n",
       "      <td>...</td>\n",
       "      <td>...</td>\n",
       "      <td>...</td>\n",
       "      <td>...</td>\n",
       "    </tr>\n",
       "    <tr>\n",
       "      <th>126733</th>\n",
       "      <td>0.0</td>\n",
       "      <td>0.0</td>\n",
       "      <td>0.0</td>\n",
       "      <td>0.0</td>\n",
       "      <td>0.0</td>\n",
       "      <td>0.0</td>\n",
       "      <td>0.0</td>\n",
       "      <td>0.0</td>\n",
       "      <td>0.0</td>\n",
       "      <td>0.0</td>\n",
       "      <td>...</td>\n",
       "      <td>-0.253305</td>\n",
       "      <td>-0.637765</td>\n",
       "      <td>1.343881</td>\n",
       "      <td>-1.136743</td>\n",
       "      <td>0.961829</td>\n",
       "      <td>-1.234876</td>\n",
       "      <td>1.007773</td>\n",
       "      <td>-1.053662</td>\n",
       "      <td>1.540983</td>\n",
       "      <td>-1.040112</td>\n",
       "    </tr>\n",
       "    <tr>\n",
       "      <th>126734</th>\n",
       "      <td>0.0</td>\n",
       "      <td>0.0</td>\n",
       "      <td>0.0</td>\n",
       "      <td>0.0</td>\n",
       "      <td>0.0</td>\n",
       "      <td>0.0</td>\n",
       "      <td>1.0</td>\n",
       "      <td>0.0</td>\n",
       "      <td>0.0</td>\n",
       "      <td>0.0</td>\n",
       "      <td>...</td>\n",
       "      <td>0.441861</td>\n",
       "      <td>-0.637765</td>\n",
       "      <td>-0.146070</td>\n",
       "      <td>-0.361555</td>\n",
       "      <td>-1.248993</td>\n",
       "      <td>-0.985003</td>\n",
       "      <td>-0.839699</td>\n",
       "      <td>-0.123538</td>\n",
       "      <td>-1.578289</td>\n",
       "      <td>0.228549</td>\n",
       "    </tr>\n",
       "    <tr>\n",
       "      <th>126735</th>\n",
       "      <td>0.0</td>\n",
       "      <td>0.0</td>\n",
       "      <td>0.0</td>\n",
       "      <td>0.0</td>\n",
       "      <td>0.0</td>\n",
       "      <td>0.0</td>\n",
       "      <td>0.0</td>\n",
       "      <td>0.0</td>\n",
       "      <td>0.0</td>\n",
       "      <td>0.0</td>\n",
       "      <td>...</td>\n",
       "      <td>0.349172</td>\n",
       "      <td>-0.637765</td>\n",
       "      <td>-2.008509</td>\n",
       "      <td>-0.361555</td>\n",
       "      <td>-1.248993</td>\n",
       "      <td>-0.735130</td>\n",
       "      <td>1.007773</td>\n",
       "      <td>-1.053662</td>\n",
       "      <td>-1.578289</td>\n",
       "      <td>0.482281</td>\n",
       "    </tr>\n",
       "    <tr>\n",
       "      <th>126736</th>\n",
       "      <td>0.0</td>\n",
       "      <td>0.0</td>\n",
       "      <td>0.0</td>\n",
       "      <td>0.0</td>\n",
       "      <td>0.0</td>\n",
       "      <td>0.0</td>\n",
       "      <td>0.0</td>\n",
       "      <td>0.0</td>\n",
       "      <td>0.0</td>\n",
       "      <td>0.0</td>\n",
       "      <td>...</td>\n",
       "      <td>-0.067927</td>\n",
       "      <td>-0.315202</td>\n",
       "      <td>-1.636021</td>\n",
       "      <td>0.672030</td>\n",
       "      <td>-0.143582</td>\n",
       "      <td>-0.235384</td>\n",
       "      <td>-0.839699</td>\n",
       "      <td>0.341523</td>\n",
       "      <td>-0.954435</td>\n",
       "      <td>0.736013</td>\n",
       "    </tr>\n",
       "    <tr>\n",
       "      <th>126737</th>\n",
       "      <td>0.0</td>\n",
       "      <td>0.0</td>\n",
       "      <td>1.0</td>\n",
       "      <td>0.0</td>\n",
       "      <td>0.0</td>\n",
       "      <td>0.0</td>\n",
       "      <td>0.0</td>\n",
       "      <td>0.0</td>\n",
       "      <td>0.0</td>\n",
       "      <td>0.0</td>\n",
       "      <td>...</td>\n",
       "      <td>0.812616</td>\n",
       "      <td>-0.637765</td>\n",
       "      <td>0.226418</td>\n",
       "      <td>0.930427</td>\n",
       "      <td>0.409124</td>\n",
       "      <td>0.764108</td>\n",
       "      <td>-0.839699</td>\n",
       "      <td>0.806585</td>\n",
       "      <td>0.605201</td>\n",
       "      <td>0.989745</td>\n",
       "    </tr>\n",
       "  </tbody>\n",
       "</table>\n",
       "<p>126738 rows × 354 columns</p>\n",
       "</div>"
      ],
      "text/plain": [
       "        STATE_FL  STATE_GA  STATE_IL  STATE_IN  STATE_MI  STATE_MO  STATE_NC  \\\n",
       "0            0.0       0.0       0.0       0.0       0.0       0.0       0.0   \n",
       "1            0.0       0.0       0.0       0.0       0.0       0.0       0.0   \n",
       "2            0.0       0.0       0.0       0.0       0.0       0.0       0.0   \n",
       "3            0.0       0.0       0.0       0.0       0.0       0.0       0.0   \n",
       "4            0.0       0.0       0.0       0.0       0.0       0.0       0.0   \n",
       "...          ...       ...       ...       ...       ...       ...       ...   \n",
       "126733       0.0       0.0       0.0       0.0       0.0       0.0       0.0   \n",
       "126734       0.0       0.0       0.0       0.0       0.0       0.0       1.0   \n",
       "126735       0.0       0.0       0.0       0.0       0.0       0.0       0.0   \n",
       "126736       0.0       0.0       0.0       0.0       0.0       0.0       0.0   \n",
       "126737       0.0       0.0       1.0       0.0       0.0       0.0       0.0   \n",
       "\n",
       "        STATE_TX  STATE_WA  STATE_WI  ...    DOB_YR    DOB_MM  MINRDATE_YR  \\\n",
       "0            0.0       0.0       0.0  ...  0.719928 -0.637765     0.971393   \n",
       "1            0.0       0.0       0.0  ...  1.924882 -0.637765     1.343881   \n",
       "2            0.0       0.0       0.0  ... -0.206961 -0.637765     0.226418   \n",
       "3            1.0       0.0       0.0  ...  0.441861 -0.637765     0.971393   \n",
       "4            0.0       0.0       0.0  ... -0.485027 -0.637765     0.971393   \n",
       "...          ...       ...       ...  ...       ...       ...          ...   \n",
       "126733       0.0       0.0       0.0  ... -0.253305 -0.637765     1.343881   \n",
       "126734       0.0       0.0       0.0  ...  0.441861 -0.637765    -0.146070   \n",
       "126735       0.0       0.0       0.0  ...  0.349172 -0.637765    -2.008509   \n",
       "126736       0.0       0.0       0.0  ... -0.067927 -0.315202    -1.636021   \n",
       "126737       0.0       0.0       0.0  ...  0.812616 -0.637765     0.226418   \n",
       "\n",
       "        MINRDATE_MM  MAXRDATE_YR  MAXRDATE_MM  LASTDATE_YR  LASTDATE_MM  \\\n",
       "0          0.930427    -1.248993     0.764108    -0.839699     0.806585   \n",
       "1         -0.878347     0.961829    -0.985003     1.007773    -0.821131   \n",
       "2          1.447219     0.961829    -0.985003     1.007773    -0.821131   \n",
       "3         -1.136743     0.409124     0.764108    -0.839699     0.806585   \n",
       "4         -0.103158     0.409124    -0.235384    -0.839699    -0.123538   \n",
       "...             ...          ...          ...          ...          ...   \n",
       "126733    -1.136743     0.961829    -1.234876     1.007773    -1.053662   \n",
       "126734    -0.361555    -1.248993    -0.985003    -0.839699    -0.123538   \n",
       "126735    -0.361555    -1.248993    -0.735130     1.007773    -1.053662   \n",
       "126736     0.672030    -0.143582    -0.235384    -0.839699     0.341523   \n",
       "126737     0.930427     0.409124     0.764108    -0.839699     0.806585   \n",
       "\n",
       "        FIRSTDATE_YR  FIRSTDATE_MM  \n",
       "0           0.293274     -1.293844  \n",
       "1           1.540983     -0.786380  \n",
       "2          -1.266362     -1.293844  \n",
       "3           1.229055     -1.040112  \n",
       "4           1.229055     -0.025183  \n",
       "...              ...           ...  \n",
       "126733      1.540983     -1.040112  \n",
       "126734     -1.578289      0.228549  \n",
       "126735     -1.578289      0.482281  \n",
       "126736     -0.954435      0.736013  \n",
       "126737      0.605201      0.989745  \n",
       "\n",
       "[126738 rows x 354 columns]"
      ]
     },
     "execution_count": 48,
     "metadata": {},
     "output_type": "execute_result"
    }
   ],
   "source": [
    "X_train_processed2 = X_train_processed.drop(drop_list, axis = 1)\n",
    "X_train_processed2"
   ]
  },
  {
   "cell_type": "code",
   "execution_count": 49,
   "id": "0d15daef",
   "metadata": {},
   "outputs": [
    {
     "ename": "SyntaxError",
     "evalue": "invalid syntax (1523850200.py, line 2)",
     "output_type": "error",
     "traceback": [
      "\u001b[1;36m  Cell \u001b[1;32mIn[49], line 2\u001b[1;36m\u001b[0m\n\u001b[1;33m    X_test_processed2.\u001b[0m\n\u001b[1;37m                      ^\u001b[0m\n\u001b[1;31mSyntaxError\u001b[0m\u001b[1;31m:\u001b[0m invalid syntax\n"
     ]
    }
   ],
   "source": [
    "X_test_processed2 = X_test_processed.drop(drop_list, axis = 1)\n",
    "X_test_processed2."
   ]
  },
  {
   "cell_type": "markdown",
   "id": "aba7d529",
   "metadata": {},
   "source": [
    "## Looking at multicolinearity"
   ]
  },
  {
   "cell_type": "code",
   "execution_count": 55,
   "id": "ec0d190c",
   "metadata": {},
   "outputs": [
    {
     "data": {
      "text/plain": [
       "(126738, 355)"
      ]
     },
     "execution_count": 55,
     "metadata": {},
     "output_type": "execute_result"
    }
   ],
   "source": [
    "Xy_train= pd.concat([X_train_processed2, y_train], axis=1)\n",
    "Xy_train.shape"
   ]
  },
  {
   "cell_type": "code",
   "execution_count": null,
   "id": "e37c5d2e",
   "metadata": {},
   "outputs": [],
   "source": [
    "import seaborn as sns\n",
    "import matplotlib.pyplot as plt\n",
    "\n",
    "corr_matrix = Xy_train.corr(method = 'pearson')\n",
    "fig, ax = plt.subplots(figsize=(20,15))\n",
    "ax = sns.heatmap(corr_matrix, annot = True)\n",
    "plt.show()"
   ]
  },
  {
   "cell_type": "code",
   "execution_count": null,
   "id": "ceb51ec1",
   "metadata": {},
   "outputs": [],
   "source": [
    "col_to_drop = ['HVP1','HVP2','HVP3','HVP5','HVP6','HV2']"
   ]
  },
  {
   "cell_type": "code",
   "execution_count": null,
   "id": "fb2a6bcb",
   "metadata": {},
   "outputs": [],
   "source": []
  },
  {
   "cell_type": "code",
   "execution_count": null,
   "id": "be637bd2",
   "metadata": {},
   "outputs": [],
   "source": [
    "X_train = X_train_all.drop(['HVP1','HVP2','HVP3','HVP5','HVP6','HV2'], axis = 1)\n",
    "X_train.shape\n",
    "X_test = X_test_all.drop(['HVP1','HVP2','HVP3','HVP5','HVP6','HV2'], axis = 1)\n",
    "X_test"
   ]
  },
  {
   "cell_type": "code",
   "execution_count": null,
   "id": "f5ed786f",
   "metadata": {},
   "outputs": [],
   "source": [
    "X_train.columns"
   ]
  },
  {
   "cell_type": "code",
   "execution_count": null,
   "id": "35327c34",
   "metadata": {},
   "outputs": [],
   "source": [
    "X_test.columns"
   ]
  },
  {
   "cell_type": "code",
   "execution_count": null,
   "id": "db7c784c",
   "metadata": {},
   "outputs": [],
   "source": []
  },
  {
   "cell_type": "code",
   "execution_count": null,
   "id": "5ce95d4f",
   "metadata": {},
   "outputs": [],
   "source": [
    "from sklearn.ensemble import RandomForestClassifier\n",
    "clf = RandomForestClassifier(max_depth=5,\n",
    "                             min_samples_split=20,\n",
    "                             min_samples_leaf =20)\n",
    "clf.fit(X_train, y_train)\n",
    "print('TrainSet = ',clf.score(X_train, y_train))\n",
    "print('TestSet = ',clf.score(X_test, y_test))"
   ]
  },
  {
   "cell_type": "code",
   "execution_count": null,
   "id": "8c51091c",
   "metadata": {},
   "outputs": [],
   "source": []
  },
  {
   "cell_type": "code",
   "execution_count": null,
   "id": "f932594b",
   "metadata": {},
   "outputs": [],
   "source": [
    "y_train.value_counts()"
   ]
  },
  {
   "cell_type": "code",
   "execution_count": null,
   "id": "2dde0c51",
   "metadata": {},
   "outputs": [],
   "source": []
  },
  {
   "cell_type": "code",
   "execution_count": null,
   "id": "7632fb4d",
   "metadata": {},
   "outputs": [],
   "source": [
    "plot_confusion_matrix(clf, X_test, y_test,cmap=plt.cm.Blues)  \n",
    "plt.show()"
   ]
  },
  {
   "cell_type": "code",
   "execution_count": null,
   "id": "865ddd75",
   "metadata": {},
   "outputs": [],
   "source": []
  },
  {
   "cell_type": "code",
   "execution_count": null,
   "id": "2805efd1",
   "metadata": {},
   "outputs": [],
   "source": []
  },
  {
   "cell_type": "code",
   "execution_count": null,
   "id": "ddb68d07",
   "metadata": {},
   "outputs": [],
   "source": []
  },
  {
   "cell_type": "code",
   "execution_count": null,
   "id": "ede9784c",
   "metadata": {},
   "outputs": [],
   "source": []
  },
  {
   "cell_type": "code",
   "execution_count": null,
   "id": "4977591a",
   "metadata": {},
   "outputs": [],
   "source": []
  },
  {
   "cell_type": "code",
   "execution_count": null,
   "id": "8d7215ee",
   "metadata": {},
   "outputs": [],
   "source": []
  },
  {
   "cell_type": "code",
   "execution_count": null,
   "id": "419ae5a0",
   "metadata": {},
   "outputs": [],
   "source": []
  },
  {
   "cell_type": "code",
   "execution_count": null,
   "id": "8186b75f",
   "metadata": {},
   "outputs": [],
   "source": [
    "X_train_num_scaled = X_train_num_scaled.drop(drop_list, axis = 1)\n",
    "X_train_num_scaled"
   ]
  },
  {
   "cell_type": "code",
   "execution_count": null,
   "id": "baa9cf8b",
   "metadata": {},
   "outputs": [],
   "source": [
    "X2 = pd.concat([X_train_processed,y_trainset_ups], axis=1)\n",
    "X2.reset_index(drop=True, inplace=True)"
   ]
  },
  {
   "cell_type": "code",
   "execution_count": null,
   "id": "5e6e9b4d",
   "metadata": {},
   "outputs": [],
   "source": []
  },
  {
   "cell_type": "code",
   "execution_count": null,
   "id": "1340203a",
   "metadata": {},
   "outputs": [],
   "source": []
  },
  {
   "cell_type": "code",
   "execution_count": null,
   "id": "6b3edb4d",
   "metadata": {},
   "outputs": [],
   "source": []
  },
  {
   "cell_type": "code",
   "execution_count": null,
   "id": "feaedec5",
   "metadata": {},
   "outputs": [],
   "source": []
  },
  {
   "cell_type": "code",
   "execution_count": null,
   "id": "dd156960",
   "metadata": {},
   "outputs": [],
   "source": []
  },
  {
   "cell_type": "code",
   "execution_count": null,
   "id": "f2e29977",
   "metadata": {},
   "outputs": [],
   "source": []
  },
  {
   "cell_type": "code",
   "execution_count": null,
   "id": "6e89c092",
   "metadata": {},
   "outputs": [],
   "source": []
  },
  {
   "cell_type": "code",
   "execution_count": null,
   "id": "7ef6f708",
   "metadata": {},
   "outputs": [],
   "source": []
  },
  {
   "cell_type": "code",
   "execution_count": null,
   "id": "e8c2e73c",
   "metadata": {},
   "outputs": [],
   "source": [
    "X = Donors.drop(['TARGET_B','TARGET_D'], axis = 1) #boston features\n",
    "y = Donors['TARGET_B'] #Labels "
   ]
  },
  {
   "cell_type": "code",
   "execution_count": null,
   "id": "fc205960",
   "metadata": {},
   "outputs": [],
   "source": [
    "X_num = X.select_dtypes(np.number)\n",
    "X_cat = X.select_dtypes(object) "
   ]
  },
  {
   "cell_type": "code",
   "execution_count": null,
   "id": "d0931ee3",
   "metadata": {},
   "outputs": [],
   "source": [
    "#ONE HOT ENCODED\n",
    "encoded_categorical = encoder.transform(X_cat).toarray()\n",
    "X_cat_encoded = pd.DataFrame(encoded_categorical, columns=encoder.get_feature_names_out()) "
   ]
  },
  {
   "cell_type": "code",
   "execution_count": null,
   "id": "7f484775",
   "metadata": {},
   "outputs": [],
   "source": [
    "#\n",
    "x_standardized = transformer.transform(X_num)\n",
    "X_num_scaled = pd.DataFrame(x_standardized, columns=X_num.columns)"
   ]
  },
  {
   "cell_type": "code",
   "execution_count": null,
   "id": "d16ea7a7",
   "metadata": {},
   "outputs": [],
   "source": [
    "X_trans = pd.concat([X_cat_encoded,X_num_scaled], axis=1)"
   ]
  },
  {
   "cell_type": "code",
   "execution_count": null,
   "id": "abe6a2a0",
   "metadata": {},
   "outputs": [],
   "source": [
    "print('TrainSet = ',clf.score(X_trans, y))"
   ]
  },
  {
   "cell_type": "code",
   "execution_count": null,
   "id": "c8a2b820",
   "metadata": {},
   "outputs": [],
   "source": [
    "predictions = clf.predict(X_trans) # Here I am using the random forest. \n",
    "predictions"
   ]
  },
  {
   "cell_type": "code",
   "execution_count": null,
   "id": "7d56353e",
   "metadata": {},
   "outputs": [],
   "source": [
    "X_trans['Predictions'] = predictions"
   ]
  },
  {
   "cell_type": "code",
   "execution_count": null,
   "id": "ec8073ad",
   "metadata": {},
   "outputs": [],
   "source": [
    "X_trans"
   ]
  },
  {
   "cell_type": "markdown",
   "id": "ce2c78e3",
   "metadata": {},
   "source": [
    "#### Use Feature Selections that you have learned in class to decide if you want to use all of the features (Variance Threshold, RFE, PCA, etc.)"
   ]
  },
  {
   "cell_type": "code",
   "execution_count": null,
   "id": "a0de13b6",
   "metadata": {},
   "outputs": [],
   "source": [
    "# Run the random fetures #selecting feature by treshold #rerun random fores "
   ]
  },
  {
   "cell_type": "code",
   "execution_count": null,
   "id": "24993c16",
   "metadata": {},
   "outputs": [],
   "source": []
  },
  {
   "cell_type": "code",
   "execution_count": null,
   "id": "6d2460d5",
   "metadata": {},
   "outputs": [],
   "source": []
  },
  {
   "cell_type": "code",
   "execution_count": null,
   "id": "e53ec682",
   "metadata": {},
   "outputs": [],
   "source": []
  },
  {
   "cell_type": "markdown",
   "id": "07f081df",
   "metadata": {},
   "source": [
    "#### Re-run the Random Forest algorithm to determine if the Feature Selection has improved the results."
   ]
  },
  {
   "cell_type": "code",
   "execution_count": null,
   "id": "bc45e125",
   "metadata": {},
   "outputs": [],
   "source": []
  },
  {
   "cell_type": "markdown",
   "id": "35b37ca7",
   "metadata": {},
   "source": [
    "#### Discuss the output and its impact in the business scenario. Is the cost of a false positive equals to the cost of the false negative? How would you change your algorithm or data in order to maximize the return of the business?"
   ]
  },
  {
   "cell_type": "code",
   "execution_count": null,
   "id": "cfe02d36",
   "metadata": {},
   "outputs": [],
   "source": []
  }
 ],
 "metadata": {
  "kernelspec": {
   "display_name": "Python 3 (ipykernel)",
   "language": "python",
   "name": "python3"
  },
  "language_info": {
   "codemirror_mode": {
    "name": "ipython",
    "version": 3
   },
   "file_extension": ".py",
   "mimetype": "text/x-python",
   "name": "python",
   "nbconvert_exporter": "python",
   "pygments_lexer": "ipython3",
   "version": "3.10.9"
  }
 },
 "nbformat": 4,
 "nbformat_minor": 5
}
