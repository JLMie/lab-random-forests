{
 "cells": [
  {
   "cell_type": "code",
   "execution_count": null,
   "id": "185637ae",
   "metadata": {},
   "outputs": [],
   "source": [
    "import warnings\n",
    "warnings.filterwarnings('ignore')"
   ]
  },
  {
   "cell_type": "code",
   "execution_count": null,
   "id": "dc6112f1",
   "metadata": {},
   "outputs": [],
   "source": [
    "import pandas as pd\n",
    "import numpy as np\n",
    "import matplotlib.pyplot as plt\n",
    "import sys\n",
    "np.set_printoptions(threshold=sys.maxsize)\n",
    "from sklearn.preprocessing import MinMaxScaler\n",
    "from sklearn.preprocessing import OneHotEncoder"
   ]
  },
  {
   "cell_type": "code",
   "execution_count": null,
   "id": "1717efab",
   "metadata": {},
   "outputs": [],
   "source": [
    "from sklearn.metrics import precision_score\n",
    "from sklearn.metrics import accuracy_score\n",
    "from sklearn.metrics import recall_score\n",
    "from sklearn.metrics import f1_score\n",
    "from sklearn.metrics import r2_score\n",
    "from sklearn.metrics import confusion_matrix\n",
    "from sklearn.metrics import plot_confusion_matrix"
   ]
  },
  {
   "cell_type": "code",
   "execution_count": null,
   "id": "a2611919",
   "metadata": {},
   "outputs": [],
   "source": [
    "categorical = pd.read_csv('/Users/erinberardi/Downloads/categorical.csv')\n",
    "numerical = pd.read_csv('/Users/erinberardi/Downloads/numerical-5.csv')\n",
    "target = pd.read_csv('/Users/erinberardi/Downloads/target.csv')\n",
    "\n",
    "#read all data"
   ]
  },
  {
   "cell_type": "markdown",
   "id": "6cfbedc2",
   "metadata": {},
   "source": [
    "### Separate into numerical and categorical"
   ]
  },
  {
   "cell_type": "code",
   "execution_count": null,
   "id": "a6461865",
   "metadata": {},
   "outputs": [],
   "source": [
    "numerical"
   ]
  },
  {
   "cell_type": "code",
   "execution_count": null,
   "id": "2f6dbae6",
   "metadata": {},
   "outputs": [],
   "source": [
    "categorical"
   ]
  },
  {
   "cell_type": "markdown",
   "id": "bd67814a",
   "metadata": {},
   "source": [
    "### Check NaN values"
   ]
  },
  {
   "cell_type": "code",
   "execution_count": null,
   "id": "fb377518",
   "metadata": {},
   "outputs": [],
   "source": [
    "categorical.isna().sum()"
   ]
  },
  {
   "cell_type": "code",
   "execution_count": null,
   "id": "40f1caa6",
   "metadata": {},
   "outputs": [],
   "source": [
    "cols_to_drop = ['OSOURCE','SOLIH','VETERANS','ZIP','Unnamed: 0']\n",
    "cat = categorical.drop(cols_to_drop, axis=1)\n"
   ]
  },
  {
   "cell_type": "markdown",
   "id": "d952c827",
   "metadata": {},
   "source": [
    "### The data needs to be all numerical to use the K-Best after checking the Variance"
   ]
  },
  {
   "cell_type": "code",
   "execution_count": null,
   "id": "ab853df2",
   "metadata": {},
   "outputs": [],
   "source": [
    "cat"
   ]
  },
  {
   "cell_type": "code",
   "execution_count": null,
   "id": "fe4b26ee",
   "metadata": {},
   "outputs": [],
   "source": [
    "cat['GENDER'].value_counts(dropna=False)"
   ]
  },
  {
   "cell_type": "code",
   "execution_count": null,
   "id": "40cbd944",
   "metadata": {},
   "outputs": [],
   "source": [
    "cat[\"GENDER\"].replace({\"J\": \"U\", \"C\": \"U\",\"A\":\"U\"}, inplace=True)"
   ]
  },
  {
   "cell_type": "code",
   "execution_count": null,
   "id": "3feecb86",
   "metadata": {},
   "outputs": [],
   "source": [
    "X = pd.concat([numerical,cat],axis = 1)\n",
    "X"
   ]
  },
  {
   "cell_type": "code",
   "execution_count": null,
   "id": "93cac6c8",
   "metadata": {},
   "outputs": [],
   "source": [
    "full_data = pd.concat([X,target], axis=1)\n",
    "full_data"
   ]
  },
  {
   "cell_type": "code",
   "execution_count": null,
   "id": "a74a2938",
   "metadata": {},
   "outputs": [],
   "source": [
    "y =target['TARGET_B']\n",
    "target_d = target['TARGET_D']\n",
    "target_d.value_counts()\n",
    "target"
   ]
  },
  {
   "cell_type": "markdown",
   "id": "58d4b01e",
   "metadata": {},
   "source": [
    "# here I train test split to focus on train features encoding and scaling"
   ]
  },
  {
   "cell_type": "code",
   "execution_count": null,
   "id": "032d5312",
   "metadata": {},
   "outputs": [],
   "source": [
    "from sklearn.model_selection import train_test_split\n",
    "X_train, X_test, y_train, y_test = train_test_split(X, y, test_size=0.3, random_state=42)"
   ]
  },
  {
   "cell_type": "code",
   "execution_count": null,
   "id": "2684ea6a",
   "metadata": {},
   "outputs": [],
   "source": [
    "display(X_train.shape)\n",
    "display(X_test.shape)\n",
    "display(y_train.shape)\n",
    "display(y_test.shape) "
   ]
  },
  {
   "cell_type": "code",
   "execution_count": null,
   "id": "b3010371",
   "metadata": {},
   "outputs": [],
   "source": [
    "X_train_cat = X_train.select_dtypes(include = object)\n",
    "X_train_num =X_train.select_dtypes(include = np.number)\n",
    "X_test_cat = X_test.select_dtypes(include = object)\n",
    "X_test_num =X_test.select_dtypes(include = np.number)"
   ]
  },
  {
   "cell_type": "code",
   "execution_count": null,
   "id": "45b6ef44",
   "metadata": {},
   "outputs": [],
   "source": []
  },
  {
   "cell_type": "markdown",
   "id": "4d24145b",
   "metadata": {},
   "source": [
    "### One-Hot-Encoding"
   ]
  },
  {
   "cell_type": "code",
   "execution_count": null,
   "id": "941c6e46",
   "metadata": {},
   "outputs": [],
   "source": [
    "encoder = OneHotEncoder(drop='first').fit(X_train_cat)\n",
    "\n",
    "cols = encoder.get_feature_names(input_features=X_train_cat.columns)\n",
    "\n",
    "X_train_cat_encode = pd.DataFrame(encoder.transform(X_train_cat).toarray(),columns=cols)\n",
    "\n",
    "X_train_cat_encode.reset_index(drop = True, inplace = True)\n",
    "X_train_cat_encode"
   ]
  },
  {
   "cell_type": "code",
   "execution_count": null,
   "id": "e5741568",
   "metadata": {},
   "outputs": [],
   "source": [
    "cols = encoder.get_feature_names(input_features=X_test_cat.columns)\n",
    "\n",
    "X_test_cat_encode = pd.DataFrame(encoder.transform(X_test_cat).toarray(),columns=cols)\n",
    "\n",
    "X_test_cat_encode.reset_index(drop = True, inplace = True)\n",
    "X_test_cat_encode\n"
   ]
  },
  {
   "cell_type": "markdown",
   "id": "83f24916",
   "metadata": {},
   "source": [
    "### Scaling train and test"
   ]
  },
  {
   "cell_type": "code",
   "execution_count": null,
   "id": "b103fd12",
   "metadata": {},
   "outputs": [],
   "source": [
    "transformer = MinMaxScaler().fit(X_train_num)\n",
    "X_train_num_norm = transformer.transform(X_train_num)\n",
    "print(X_train_num_norm.shape)\n",
    "X_train_num_scale = pd.DataFrame(X_train_num_norm, index = X_train_num.index, columns=X_train_num.columns)\n",
    "X_train_num_scale.head()\n",
    "X_train_num_scale.reset_index(drop = True, inplace = True)"
   ]
  },
  {
   "cell_type": "code",
   "execution_count": null,
   "id": "eb597a60",
   "metadata": {},
   "outputs": [],
   "source": [
    "X_test_num_norm = transformer.transform(X_test_num)\n",
    "print(X_test_num_norm.shape)\n",
    "X_test_num_scale = pd.DataFrame(X_test_num_norm, index = X_test_num.index, columns=X_test_num.columns)\n",
    "X_test_num_scale.head()\n",
    "X_test_num_scale.reset_index(drop = True, inplace=True)\n",
    "X_test_num_scale"
   ]
  },
  {
   "cell_type": "markdown",
   "id": "2cdd54bf",
   "metadata": {},
   "source": [
    "### Concat numerical and categorical for train and test"
   ]
  },
  {
   "cell_type": "code",
   "execution_count": null,
   "id": "d1dd532f",
   "metadata": {},
   "outputs": [],
   "source": [
    "X_train = pd.concat([X_train_num_scale,X_train_cat_encode], axis=1)\n",
    "X_train.index\n",
    "y_train.reset_index(drop = True, inplace = True)"
   ]
  },
  {
   "cell_type": "code",
   "execution_count": null,
   "id": "6d6ae629",
   "metadata": {},
   "outputs": [],
   "source": [
    "X_test = pd.concat([X_test_num_scale,X_test_cat_encode], axis=1)\n",
    "X_test\n",
    "y_test.reset_index(drop = True, inplace = True)"
   ]
  },
  {
   "cell_type": "markdown",
   "id": "ecafd18e",
   "metadata": {},
   "source": [
    "# making full df for training set for feature selection"
   ]
  },
  {
   "cell_type": "code",
   "execution_count": null,
   "id": "797ba4c8",
   "metadata": {},
   "outputs": [],
   "source": [
    "data = pd.concat([X_train,y_train],axis = 1)\n",
    "data"
   ]
  },
  {
   "cell_type": "code",
   "execution_count": null,
   "id": "bd403305",
   "metadata": {},
   "outputs": [],
   "source": [
    "from sklearn.feature_selection import VarianceThreshold\n",
    "Var_threshold = 0.02\n",
    "sel = VarianceThreshold(threshold=Var_threshold)\n",
    "                        \n",
    "sel = sel.fit(X_train)\n",
    "temp = sel.transform(X_train)\n",
    "temp = pd.DataFrame(temp)\n",
    "print(X_train.shape)\n",
    "print(temp.shape)              "
   ]
  },
  {
   "cell_type": "code",
   "execution_count": null,
   "id": "2027a7c8",
   "metadata": {},
   "outputs": [],
   "source": [
    "sel.variances_ > Var_threshold\n",
    "sel.get_support()\n",
    "var_list = list(sel.get_support())\n",
    "len(var_list)"
   ]
  },
  {
   "cell_type": "code",
   "execution_count": null,
   "id": "b9f5cb8a",
   "metadata": {},
   "outputs": [],
   "source": [
    "len(X_train.columns)"
   ]
  },
  {
   "cell_type": "code",
   "execution_count": null,
   "id": "12209056",
   "metadata": {},
   "outputs": [],
   "source": [
    "len(list(zip(X_train.columns,var_list)))"
   ]
  },
  {
   "cell_type": "code",
   "execution_count": null,
   "id": "a74a4975",
   "metadata": {},
   "outputs": [],
   "source": [
    "drop_list = [col[0] for col in zip(X_train.columns,var_list) if col[1] == False]\n",
    "len(drop_list) # the 1º part of the list of x_train colunmn.....if it false add a column name to the list "
   ]
  },
  {
   "cell_type": "markdown",
   "id": "649675ac",
   "metadata": {},
   "source": [
    "## Here I can drop these columns but going to check the K-Best option to get even smaller # of features\n"
   ]
  },
  {
   "cell_type": "code",
   "execution_count": null,
   "id": "37c3125f",
   "metadata": {},
   "outputs": [],
   "source": [
    "X_train = X_train.drop(drop_list, axis = 1)\n",
    "X_train"
   ]
  },
  {
   "cell_type": "code",
   "execution_count": null,
   "id": "33e66127",
   "metadata": {},
   "outputs": [],
   "source": [
    "X_test = X_test.drop(drop_list, axis = 1)\n",
    "X_test"
   ]
  },
  {
   "cell_type": "markdown",
   "id": "d7f436a6",
   "metadata": {},
   "source": [
    "# Adding in KBest"
   ]
  },
  {
   "cell_type": "code",
   "execution_count": null,
   "id": "2c5650c7",
   "metadata": {},
   "outputs": [],
   "source": [
    "from sklearn.feature_selection import SelectKBest\n",
    "from sklearn.feature_selection import chi2\n",
    "\n",
    "print(X_train.shape)\n",
    "\n",
    "K_best = SelectKBest(chi2, k=25).fit_transform(X_train, y_train)\n",
    "\n",
    "print(K_best.shape)\n",
    "selected = pd.DataFrame(K_best)\n",
    "selected.head()"
   ]
  },
  {
   "cell_type": "code",
   "execution_count": null,
   "id": "a48689b0",
   "metadata": {},
   "outputs": [],
   "source": [
    "model = SelectKBest(chi2, k=25).fit(X_train,y_train)\n",
    "df = pd.DataFrame(data = model.scores_, columns=['score'])\n",
    "df['column_name']= X_train.columns\n",
    "display(df.shape)\n",
    "df\n",
    "df.sort_values(by = ['score'],ascending = False).head(50)"
   ]
  },
  {
   "cell_type": "code",
   "execution_count": null,
   "id": "59f4a6c6",
   "metadata": {},
   "outputs": [],
   "source": [
    "cols = df.sort_values(by = ['score'],ascending = False).head(25)['column_name']\n",
    "col_list = list(cols)\n",
    "col_list"
   ]
  },
  {
   "cell_type": "code",
   "execution_count": null,
   "id": "aca73be1",
   "metadata": {},
   "outputs": [],
   "source": [
    "X_train_all = X_train[col_list]\n",
    "X_train_all"
   ]
  },
  {
   "cell_type": "code",
   "execution_count": null,
   "id": "9d71a944",
   "metadata": {},
   "outputs": [],
   "source": [
    "X_test_all = X_test[col_list]"
   ]
  },
  {
   "cell_type": "code",
   "execution_count": null,
   "id": "ab3f1a2e",
   "metadata": {},
   "outputs": [],
   "source": [
    "X_test_all"
   ]
  },
  {
   "cell_type": "code",
   "execution_count": null,
   "id": "5c3725c5",
   "metadata": {},
   "outputs": [],
   "source": []
  },
  {
   "cell_type": "code",
   "execution_count": null,
   "id": "5843d0e1",
   "metadata": {},
   "outputs": [],
   "source": [
    "coll_data= pd.concat([X_train_all,y_train], axis= 1)\n",
    "coll_data"
   ]
  },
  {
   "cell_type": "markdown",
   "id": "67f40bef",
   "metadata": {},
   "source": [
    "# Looking at multicolinearity"
   ]
  },
  {
   "cell_type": "code",
   "execution_count": null,
   "id": "b1e99c23",
   "metadata": {},
   "outputs": [],
   "source": [
    "corr_matrix = coll_data.corr(method = 'pearson')\n",
    "fig, ax = plt.subplots(figsize=(20,15))\n",
    "ax = sns.heatmap(corr_matrix, annot = True)\n",
    "plt.show()"
   ]
  },
  {
   "cell_type": "markdown",
   "id": "cf17cf62",
   "metadata": {},
   "source": [
    "# Plots to look at best multi-collinearity."
   ]
  },
  {
   "cell_type": "code",
   "execution_count": null,
   "id": "cf766b7d",
   "metadata": {},
   "outputs": [],
   "source": [
    "col_viz = ['HVP1','HVP2','HVP3','HVP4','HVP5','HVP6','HV1','HV2']"
   ]
  },
  {
   "cell_type": "code",
   "execution_count": null,
   "id": "0641f6af",
   "metadata": {},
   "outputs": [],
   "source": []
  },
  {
   "cell_type": "code",
   "execution_count": null,
   "id": "d564f654",
   "metadata": {
    "scrolled": false
   },
   "outputs": [],
   "source": [
    "for column in coll_data[col_viz]:\n",
    "    sns.histplot( x=coll_data[column])\n",
    "    plt.show()"
   ]
  },
  {
   "cell_type": "code",
   "execution_count": null,
   "id": "e31b5a23",
   "metadata": {},
   "outputs": [],
   "source": [
    "col_to_drop = ['HVP1','HVP2','HVP3','HVP5','HVP6','HV2']\n",
    "# HVP4 I will keep as it has high correlation with the target column.  Maybe look at correlation with Target D"
   ]
  },
  {
   "cell_type": "code",
   "execution_count": null,
   "id": "05f3ee56",
   "metadata": {},
   "outputs": [],
   "source": [
    "X_train = X_train_all.drop(['HVP1','HVP2','HVP3','HVP5','HVP6','HV2'], axis = 1)\n",
    "X_train.shape\n",
    "X_test = X_test_all.drop(['HVP1','HVP2','HVP3','HVP5','HVP6','HV2'], axis = 1)\n",
    "X_test"
   ]
  },
  {
   "cell_type": "code",
   "execution_count": null,
   "id": "9d0a06fc",
   "metadata": {},
   "outputs": [],
   "source": [
    "X_train.columns"
   ]
  },
  {
   "cell_type": "code",
   "execution_count": null,
   "id": "7833f7ba",
   "metadata": {},
   "outputs": [],
   "source": [
    "X_test.columns"
   ]
  },
  {
   "cell_type": "markdown",
   "id": "5db4ad9e",
   "metadata": {},
   "source": [
    "# Let's run a model with the chosen features."
   ]
  },
  {
   "cell_type": "code",
   "execution_count": null,
   "id": "64cdaf96",
   "metadata": {},
   "outputs": [],
   "source": [
    "from sklearn.ensemble import RandomForestClassifier\n",
    "clf = RandomForestClassifier(max_depth=5,\n",
    "                             min_samples_split=20,\n",
    "                             min_samples_leaf =20)\n",
    "clf.fit(X_train, y_train)\n",
    "print('TrainSet = ',clf.score(X_train, y_train))\n",
    "print('TestSet = ',clf.score(X_test, y_test))"
   ]
  },
  {
   "cell_type": "code",
   "execution_count": null,
   "id": "824d149f",
   "metadata": {},
   "outputs": [],
   "source": [
    "y_train.value_counts()\n",
    "# unbalanced"
   ]
  },
  {
   "cell_type": "code",
   "execution_count": null,
   "id": "dcc6f362",
   "metadata": {},
   "outputs": [],
   "source": [
    "plot_confusion_matrix(clf, X_test, y_test,cmap=plt.cm.Blues)  \n",
    "plt.show()"
   ]
  },
  {
   "cell_type": "markdown",
   "id": "6b5b8304",
   "metadata": {},
   "source": [
    "## From the confusion matrix we can see that our model only predicted NO donate."
   ]
  },
  {
   "cell_type": "code",
   "execution_count": null,
   "id": "d3513e95",
   "metadata": {},
   "outputs": [],
   "source": [
    "for_over_sample = pd.concat([X_train,y_train], axis=1)"
   ]
  },
  {
   "cell_type": "code",
   "execution_count": null,
   "id": "fc296a5e",
   "metadata": {},
   "outputs": [],
   "source": [
    "for_over_sample.shape\n"
   ]
  },
  {
   "cell_type": "markdown",
   "id": "04f4977a",
   "metadata": {},
   "source": [
    "# Fixing imbalance"
   ]
  },
  {
   "cell_type": "code",
   "execution_count": null,
   "id": "c3d2f977",
   "metadata": {},
   "outputs": [],
   "source": [
    "#balacning data - upsampling\n",
    "no_donate = for_over_sample[for_over_sample['TARGET_B']==0]\n",
    "yes_donate = for_over_sample[for_over_sample['TARGET_B']==1]\n",
    "\n",
    "from sklearn.utils import resample\n",
    "yes_donate_oversampled = resample(yes_donate, \n",
    "                                    replace=True,\n",
    "                                    n_samples = len(no_donate),random_state=42)\n",
    "display(no_donate.shape)\n",
    "display(yes_donate_oversampled.shape)"
   ]
  },
  {
   "cell_type": "code",
   "execution_count": null,
   "id": "b531c72a",
   "metadata": {},
   "outputs": [],
   "source": [
    "oversampled_target = pd.concat([no_donate,yes_donate_oversampled], axis = 0)\n",
    "\n",
    "# scrambled rows to avoid yes/no clusters\n",
    "oversampled_total = oversampled_target.sample(frac=1)\n",
    "\n",
    "X_train_oversampled = oversampled_total.drop(['TARGET_B'], axis = 1)\n",
    "\n",
    "y_train_oversampled =oversampled_total['TARGET_B']"
   ]
  },
  {
   "cell_type": "code",
   "execution_count": null,
   "id": "da7f095f",
   "metadata": {},
   "outputs": [],
   "source": [
    "display(X_train_oversampled.shape)\n",
    "display(y_train_oversampled.shape)"
   ]
  },
  {
   "cell_type": "markdown",
   "id": "45a81e04",
   "metadata": {},
   "source": [
    "## Re-FIT Classifier with the oversampled train set"
   ]
  },
  {
   "cell_type": "code",
   "execution_count": null,
   "id": "671abd7f",
   "metadata": {},
   "outputs": [],
   "source": [
    "clf2 = RandomForestClassifier(max_depth=5,\n",
    "                             min_samples_split=20,\n",
    "                             min_samples_leaf =20)\n",
    "clf2.fit(X_train_oversampled, y_train_oversampled)\n",
    "print('TrainSet = ',clf.score(X_train_oversampled, y_train_oversampled))\n",
    "print('TestSet = ',clf.score(X_test, y_test))"
   ]
  },
  {
   "cell_type": "code",
   "execution_count": null,
   "id": "72cb97e8",
   "metadata": {},
   "outputs": [],
   "source": []
  },
  {
   "cell_type": "code",
   "execution_count": null,
   "id": "741df5a5",
   "metadata": {},
   "outputs": [],
   "source": [
    "\n",
    "pred_RF = clf2.predict(X_test)\n",
    "\n",
    "print('accuracy:', accuracy_score(y_test, pred_RF))\n",
    "print(\"precision: \",precision_score(y_test,pred_RF))\n",
    "print(\"recall: \",recall_score(y_test,pred_RF))\n",
    "print(\"f1: \",f1_score(y_test,pred_RF))"
   ]
  },
  {
   "cell_type": "markdown",
   "id": "c66897bf",
   "metadata": {},
   "source": [
    "### Look how the new oversampled model works on the test set"
   ]
  },
  {
   "cell_type": "code",
   "execution_count": null,
   "id": "24ccdda6",
   "metadata": {},
   "outputs": [],
   "source": [
    "plot_confusion_matrix(clf2, X_test, y_test,cmap=plt.cm.Blues)  \n",
    "plt.show()"
   ]
  },
  {
   "cell_type": "markdown",
   "id": "e83904f6",
   "metadata": {},
   "source": [
    "# Now we have a model, let's run ALL of the data to gain insights for the business"
   ]
  },
  {
   "cell_type": "code",
   "execution_count": null,
   "id": "09cd2f57",
   "metadata": {},
   "outputs": [],
   "source": [
    "X.dtypes"
   ]
  },
  {
   "cell_type": "code",
   "execution_count": null,
   "id": "9a31ecca",
   "metadata": {},
   "outputs": [],
   "source": [
    "display(X)\n",
    "display(y)"
   ]
  },
  {
   "cell_type": "markdown",
   "id": "b684bce1",
   "metadata": {},
   "source": [
    "## Scale and encode ALL of the data for model"
   ]
  },
  {
   "cell_type": "code",
   "execution_count": null,
   "id": "53cf604f",
   "metadata": {},
   "outputs": [],
   "source": [
    "Xcat = X.select_dtypes(include=object)\n",
    "Xnum = X.select_dtypes(include=np.number)\n",
    "Xcat"
   ]
  },
  {
   "cell_type": "code",
   "execution_count": null,
   "id": "5a295f21",
   "metadata": {},
   "outputs": [],
   "source": [
    "encoder = OneHotEncoder(drop='first').fit(Xcat)\n",
    "\n",
    "cols = encoder.get_feature_names(input_features=Xcat.columns)\n",
    "\n",
    "Xcat_encode = pd.DataFrame(encoder.transform(Xcat).toarray(),columns=cols)\n",
    "\n",
    "Xcat_encode.reset_index(drop = True, inplace = True)\n",
    "Xcat_encode"
   ]
  },
  {
   "cell_type": "code",
   "execution_count": null,
   "id": "ef7ff793",
   "metadata": {},
   "outputs": [],
   "source": [
    "transformer = MinMaxScaler().fit(Xnum)\n",
    "Xnum_norm = transformer.transform(Xnum)\n",
    "print(Xnum_norm.shape)\n",
    "Xnum_scale = pd.DataFrame(Xnum_norm, index = Xnum.index, columns=Xnum.columns)\n",
    "Xnum_scale.head()\n",
    "Xnum_scale.reset_index(drop = True, inplace = True)"
   ]
  },
  {
   "cell_type": "code",
   "execution_count": null,
   "id": "f3ef5abc",
   "metadata": {},
   "outputs": [],
   "source": [
    "X = pd.concat([Xnum_scale,Xcat_encode], axis = 1)"
   ]
  },
  {
   "cell_type": "code",
   "execution_count": null,
   "id": "89377d7d",
   "metadata": {},
   "outputs": [],
   "source": [
    "X"
   ]
  },
  {
   "cell_type": "markdown",
   "id": "2e9c85b9",
   "metadata": {},
   "source": [
    "# Keep same columns as before (top 25)"
   ]
  },
  {
   "cell_type": "code",
   "execution_count": null,
   "id": "379770a9",
   "metadata": {},
   "outputs": [],
   "source": [
    "X = X.drop(drop_list, axis = 1)   #dropping\n",
    "X.shape"
   ]
  },
  {
   "cell_type": "code",
   "execution_count": null,
   "id": "57908d16",
   "metadata": {},
   "outputs": [],
   "source": [
    "X = X[col_list]           #columns to keep -- top 25\n",
    "X.shape"
   ]
  },
  {
   "cell_type": "code",
   "execution_count": null,
   "id": "5deff5b0",
   "metadata": {},
   "outputs": [],
   "source": [
    "X = X.drop(col_to_drop, axis = 1)\n",
    "X.shape"
   ]
  },
  {
   "cell_type": "markdown",
   "id": "c57492d0",
   "metadata": {},
   "source": [
    "## Re-running Classifier with all the data"
   ]
  },
  {
   "cell_type": "markdown",
   "id": "da0edc0f",
   "metadata": {},
   "source": [
    "### Run the classifier on all of the data, then look at the confusion matrix"
   ]
  },
  {
   "cell_type": "code",
   "execution_count": null,
   "id": "7af0127b",
   "metadata": {},
   "outputs": [],
   "source": [
    "##Using the upsampled classifier\n",
    "\n",
    "print('All data = ',clf2.score(X,y))\n"
   ]
  },
  {
   "cell_type": "code",
   "execution_count": null,
   "id": "110e322e",
   "metadata": {},
   "outputs": [],
   "source": [
    "plot_confusion_matrix(clf2, X,y,cmap=plt.cm.Blues)  \n",
    "plt.show()"
   ]
  },
  {
   "cell_type": "code",
   "execution_count": null,
   "id": "4d4153bd",
   "metadata": {},
   "outputs": [],
   "source": [
    "pred_RF = clf2.predict(X)\n",
    "\n",
    "print('accuracy:', accuracy_score(y, pred_RF))\n",
    "print(\"precision: \",precision_score(y,pred_RF))\n",
    "print(\"recall: \",recall_score(y,pred_RF))\n",
    "print(\"f1: \",f1_score(y,pred_RF))"
   ]
  },
  {
   "cell_type": "code",
   "execution_count": null,
   "id": "a12854fa",
   "metadata": {},
   "outputs": [],
   "source": []
  },
  {
   "cell_type": "code",
   "execution_count": null,
   "id": "beb44e2e",
   "metadata": {},
   "outputs": [],
   "source": []
  },
  {
   "cell_type": "code",
   "execution_count": null,
   "id": "b51a99b6",
   "metadata": {},
   "outputs": [],
   "source": []
  },
  {
   "cell_type": "code",
   "execution_count": null,
   "id": "a3c8ed8d",
   "metadata": {},
   "outputs": [],
   "source": []
  },
  {
   "cell_type": "markdown",
   "id": "4584f59a",
   "metadata": {},
   "source": [
    "## Finding mean of Target D to understand data Target B results"
   ]
  },
  {
   "cell_type": "code",
   "execution_count": null,
   "id": "b5a74efa",
   "metadata": {},
   "outputs": [],
   "source": [
    "data_targetD = full_data[full_data['TARGET_B']==1]\n",
    "data_targetD"
   ]
  },
  {
   "cell_type": "code",
   "execution_count": null,
   "id": "b48a412b",
   "metadata": {},
   "outputs": [],
   "source": [
    "len(data_targetD['TARGET_D'])"
   ]
  },
  {
   "cell_type": "code",
   "execution_count": null,
   "id": "8ebc9cf7",
   "metadata": {},
   "outputs": [],
   "source": [
    "data_targetD['TARGET_D'].value_counts()"
   ]
  },
  {
   "cell_type": "code",
   "execution_count": null,
   "id": "4ce0b0a6",
   "metadata": {},
   "outputs": [],
   "source": [
    "data_targetD['TARGET_D'].mean()"
   ]
  },
  {
   "cell_type": "markdown",
   "id": "4b0fafe2",
   "metadata": {},
   "source": [
    "# Reading the results"
   ]
  },
  {
   "cell_type": "code",
   "execution_count": null,
   "id": "98c88e8c",
   "metadata": {},
   "outputs": [],
   "source": [
    "plot_confusion_matrix(clf2, X,y,cmap=plt.cm.Blues)  \n",
    "plt.show()"
   ]
  },
  {
   "cell_type": "code",
   "execution_count": null,
   "id": "fcaae11b",
   "metadata": {},
   "outputs": [],
   "source": [
    "predict_y = clf2.predict(X)\n",
    "\n",
    "\n",
    "array = confusion_matrix(y, predict_y)\n",
    "Q1 = array[0][0]\n",
    "Q2 = array[0][1]\n",
    "Q3 = array[1][0]\n",
    "Q4 = array[1][1]\n",
    "print(Q1)\n",
    "print(Q2)\n",
    "print(Q3)\n",
    "print(Q4)"
   ]
  },
  {
   "cell_type": "code",
   "execution_count": null,
   "id": "79c5c882",
   "metadata": {},
   "outputs": [],
   "source": [
    "donation_gained = Q4 * 15.6\n",
    "unexpected_donation = Q3 * 15.6\n",
    "spend_marketing = (Q4+Q2) * 0.68\n",
    "no_return_marketing = Q2 * 0.68\n",
    "overall_revenue = (donation_gained + unexpected_donation) - spend_marketing\n",
    "\n",
    "\n",
    "\n",
    "print('Donation amount gained:',round(donation_gained,2))\n",
    "print('Unexpected Donations:',round(unexpected_donation,2))\n",
    "print('Amount spent (cost) on marketing:',round(spend_marketing,2))\n",
    "print('Amount lost on marketing:',round(no_return_marketing,2))\n",
    "\n",
    "print('Overall revenue (donation - cost):',round(overall_revenue,2))"
   ]
  },
  {
   "cell_type": "code",
   "execution_count": null,
   "id": "827b45ed",
   "metadata": {},
   "outputs": [],
   "source": [
    "print('In the above plot we can see that there are    ',Q3,'    people of whom the model predicts they will not donate,')\n",
    "print('when they actually would donate, AKA falsely predicted non-donators.')\n",
    "print('We gain a donation amount of    ',unexpected_donation,'    from this group.')\n",
    "print('There are also   ', Q2 ,'    people of whom the model predicts they will donate, when they actually do not.')\n",
    "print('We  lose   ', no_return_marketing,'   on mailing costs from this group.')\n",
    "print('When we look at the average donation amount of someone who actually donates is around 15.62 dollars.')\n",
    "print('We raise   ', overall_revenue ,'   dollars with this model.')"
   ]
  },
  {
   "cell_type": "markdown",
   "id": "49dd9c24",
   "metadata": {},
   "source": [
    "## Results of the model \n",
    "\n",
    "\n",
    "Zooming in on the costs to send the marketing packages: in this scenario we spend a total of 26158 dollars on marketing. Of which 24208 dollars does not yield any donation. It is suggested that mailers be sent to our predicted donors as well as people who have donated in the past.\n",
    "\n",
    "We can clearly conclude that it's in the best interest of Healthcare 4 All to have a model in which we have the lowest amount of falsely predicted non-donators. With this model we can see that the donation amount lost is almost equal to the Unexpected Donations gained.This model would need to be improved to optimize for the Falsely Predicted non- donators who would actually donate."
   ]
  },
  {
   "cell_type": "markdown",
   "id": "e1a7b9af",
   "metadata": {},
   "source": [
    "# Moving on to create model to predict HOW MUCH they will donate."
   ]
  },
  {
   "cell_type": "markdown",
   "id": "be60a1c5",
   "metadata": {},
   "source": [
    "# Predicting amount given among actual donators"
   ]
  },
  {
   "cell_type": "markdown",
   "id": "4d1b22ee",
   "metadata": {},
   "source": [
    "#### Using target D dataset created earlier"
   ]
  },
  {
   "cell_type": "code",
   "execution_count": null,
   "id": "ca523808",
   "metadata": {},
   "outputs": [],
   "source": [
    "data_targetD"
   ]
  },
  {
   "cell_type": "markdown",
   "id": "ba6c2fc1",
   "metadata": {},
   "source": [
    "#### Breaking into features and target"
   ]
  },
  {
   "cell_type": "code",
   "execution_count": null,
   "id": "3a7bad03",
   "metadata": {},
   "outputs": [],
   "source": [
    "X_D = data_targetD.drop(['TARGET_D', 'TARGET_B', 'Unnamed: 0'], axis=1)\n",
    "y_D = data_targetD['TARGET_D']\n",
    "display(X_D)\n",
    "display(y_D)"
   ]
  },
  {
   "cell_type": "markdown",
   "id": "ac396751",
   "metadata": {},
   "source": [
    "#### Train test split"
   ]
  },
  {
   "cell_type": "code",
   "execution_count": null,
   "id": "40410104",
   "metadata": {},
   "outputs": [],
   "source": [
    "X_train1, X_test1, y_train1, y_test1 = train_test_split(X_D, y_D, test_size=0.2, random_state=42)"
   ]
  },
  {
   "cell_type": "code",
   "execution_count": null,
   "id": "83937435",
   "metadata": {},
   "outputs": [],
   "source": [
    "X_train_cat1 = X_train1.select_dtypes(include = object)\n",
    "X_train_num1 =X_train1.select_dtypes(include = np.number)\n",
    "X_test_cat1 = X_test1.select_dtypes(include = object)\n",
    "X_test_num1 =X_test1.select_dtypes(include = np.number)"
   ]
  },
  {
   "cell_type": "markdown",
   "id": "2d1a4a65",
   "metadata": {},
   "source": [
    "## Encoding"
   ]
  },
  {
   "cell_type": "code",
   "execution_count": null,
   "id": "e61499d4",
   "metadata": {},
   "outputs": [],
   "source": [
    "encoder = OneHotEncoder(drop='first').fit(X_train_cat1)\n",
    "\n",
    "cols1 = encoder.get_feature_names(input_features=X_train_cat1.columns)\n",
    "\n",
    "X_train_cat_encode1 = pd.DataFrame(encoder.transform(X_train_cat1).toarray(),columns=cols1)\n",
    "\n",
    "X_train_cat_encode1.reset_index(drop = True, inplace = True)\n",
    "X_train_cat_encode1"
   ]
  },
  {
   "cell_type": "code",
   "execution_count": null,
   "id": "8fbd7502",
   "metadata": {},
   "outputs": [],
   "source": [
    "cols = encoder.get_feature_names(input_features=X_test_cat1.columns)\n",
    "\n",
    "X_test_cat_encode1 = pd.DataFrame(encoder.transform(X_test_cat1).toarray(),columns=cols)\n",
    "\n",
    "X_test_cat_encode1.reset_index(drop = True, inplace = True)\n",
    "X_test_cat_encode1"
   ]
  },
  {
   "cell_type": "markdown",
   "id": "a130fd8d",
   "metadata": {},
   "source": [
    "## Scaling"
   ]
  },
  {
   "cell_type": "code",
   "execution_count": null,
   "id": "8a51b365",
   "metadata": {},
   "outputs": [],
   "source": [
    "transformer = MinMaxScaler().fit(X_train_num1)\n",
    "X_train_num_norm1 = transformer.transform(X_train_num1)\n",
    "print(X_train_num_norm1.shape)\n",
    "X_train_num_scale1 = pd.DataFrame(X_train_num_norm1, index = X_train_num1.index, columns=X_train_num1.columns)\n",
    "X_train_num_scale1.head()\n",
    "X_train_num_scale1.reset_index(drop = True, inplace = True)"
   ]
  },
  {
   "cell_type": "code",
   "execution_count": null,
   "id": "0d7fc304",
   "metadata": {},
   "outputs": [],
   "source": [
    "X_test_num_norm1 = transformer.transform(X_test_num1)\n",
    "print(X_test_num_norm1.shape)\n",
    "X_test_num_scale1 = pd.DataFrame(X_test_num_norm1, index = X_test_num1.index, columns=X_test_num1.columns)\n",
    "X_test_num_scale1.head()\n",
    "X_test_num_scale1.reset_index(drop = True, inplace=True)\n",
    "X_test_num_scale1"
   ]
  },
  {
   "cell_type": "code",
   "execution_count": null,
   "id": "c3e9fb40",
   "metadata": {},
   "outputs": [],
   "source": [
    "X_train1 = pd.concat([X_train_num_scale1,X_train_cat_encode1], axis=1)\n",
    "X_train1.index\n",
    "y_train1.reset_index(drop = True, inplace = True)"
   ]
  },
  {
   "cell_type": "code",
   "execution_count": null,
   "id": "477214ed",
   "metadata": {},
   "outputs": [],
   "source": [
    "X_test1 = pd.concat([X_test_num_scale1,X_test_cat_encode1], axis=1)\n",
    "X_test1\n",
    "y_test1.reset_index(drop = True, inplace = True)"
   ]
  },
  {
   "cell_type": "markdown",
   "id": "ef91d05b",
   "metadata": {},
   "source": [
    "# Feature Selection"
   ]
  },
  {
   "cell_type": "code",
   "execution_count": null,
   "id": "8ab42b0c",
   "metadata": {},
   "outputs": [],
   "source": [
    "from sklearn.feature_selection import VarianceThreshold\n",
    "Var_threshold = 0.02\n",
    "sel = VarianceThreshold(threshold=Var_threshold)\n",
    "                        \n",
    "sel = sel.fit(X_train1)\n",
    "temp = sel.transform(X_train1)\n",
    "temp = pd.DataFrame(temp)\n",
    "print(X_train1.shape)\n",
    "print(temp.shape)\n",
    "                        "
   ]
  },
  {
   "cell_type": "code",
   "execution_count": null,
   "id": "59673206",
   "metadata": {},
   "outputs": [],
   "source": [
    "sel.variances_ > Var_threshold\n",
    "sel.get_support()\n",
    "var_list = list(sel.get_support())\n",
    "var_list\n",
    "print(var_list.count(True))\n",
    "print(var_list.count(False))"
   ]
  },
  {
   "cell_type": "code",
   "execution_count": null,
   "id": "b475e86a",
   "metadata": {},
   "outputs": [],
   "source": [
    "zipped = list(zip(X_train.columns,var_list))\n",
    "len(zipped)"
   ]
  },
  {
   "cell_type": "code",
   "execution_count": null,
   "id": "4acfd4ed",
   "metadata": {},
   "outputs": [],
   "source": [
    "drop_list = [col[0] for col in zip(X_train1.columns,var_list) if col[1] == False]\n",
    "print(drop_list)\n",
    "drop_list = drop_list +['HVP1','HVP2','HVP3','HVP5','HVP6','HV2']\n",
    "len(drop_list)"
   ]
  },
  {
   "cell_type": "code",
   "execution_count": null,
   "id": "6e7157cb",
   "metadata": {},
   "outputs": [],
   "source": [
    "#drop_list"
   ]
  },
  {
   "cell_type": "code",
   "execution_count": null,
   "id": "e163fc19",
   "metadata": {},
   "outputs": [],
   "source": [
    "X_train1 = X_train1.drop(drop_list, axis = 1)\n",
    "X_train1"
   ]
  },
  {
   "cell_type": "code",
   "execution_count": null,
   "id": "7eb388c8",
   "metadata": {},
   "outputs": [],
   "source": [
    "X_test1 = X_test1.drop(drop_list, axis = 1)\n",
    "X_test1"
   ]
  },
  {
   "cell_type": "code",
   "execution_count": null,
   "id": "76083082",
   "metadata": {},
   "outputs": [],
   "source": []
  },
  {
   "cell_type": "markdown",
   "id": "a69216bb",
   "metadata": {},
   "source": [
    "# PCA - Principle Component Analysis"
   ]
  },
  {
   "cell_type": "code",
   "execution_count": null,
   "id": "29af80ca",
   "metadata": {},
   "outputs": [],
   "source": [
    "from sklearn.decomposition import PCA"
   ]
  },
  {
   "cell_type": "code",
   "execution_count": null,
   "id": "0dd1d361",
   "metadata": {},
   "outputs": [],
   "source": [
    "pca = PCA(0.9)\n",
    "pca.fit(X_train1)\n",
    "\n",
    "X_train_pca = pca.transform(X_train1)\n",
    "X_test_pca = pca.transform(X_test1)\n",
    "\n",
    "corr_pc = pd.DataFrame(X_train_pca).corr()\n"
   ]
  },
  {
   "cell_type": "code",
   "execution_count": null,
   "id": "504354f3",
   "metadata": {},
   "outputs": [],
   "source": [
    "exp_var_pca = pca.explained_variance_ratio_\n",
    "cum_sum_eigenvalues = np.cumsum(exp_var_pca)\n",
    "\n",
    "# Create the visualization plot\n",
    "plt.bar(range(0,len(exp_var_pca)), exp_var_pca, \n",
    "        alpha=0.5, align='center', label='Individual explained variance')\n",
    "plt.step(range(0,len(cum_sum_eigenvalues)), cum_sum_eigenvalues, \n",
    "         where='mid',label='Cumulative explained variance')\n",
    "plt.ylabel('Explained variance ratio')\n",
    "plt.xlabel('Principal component index')\n",
    "plt.legend(loc='best')\n",
    "plt.tight_layout()\n",
    "plt.show()"
   ]
  },
  {
   "cell_type": "code",
   "execution_count": null,
   "id": "bb2a5787",
   "metadata": {},
   "outputs": [],
   "source": []
  },
  {
   "cell_type": "code",
   "execution_count": null,
   "id": "bad819a9",
   "metadata": {},
   "outputs": [],
   "source": []
  },
  {
   "cell_type": "code",
   "execution_count": null,
   "id": "b8ec4cfe",
   "metadata": {},
   "outputs": [],
   "source": [
    "print(X_train1.shape)\n",
    "print(X_test1.shape)\n",
    "print (y_train1.shape)\n",
    "print(y_test1.shape)"
   ]
  },
  {
   "cell_type": "markdown",
   "id": "778db673",
   "metadata": {},
   "source": [
    "# Run regression models"
   ]
  },
  {
   "cell_type": "code",
   "execution_count": null,
   "id": "60a5e314",
   "metadata": {},
   "outputs": [],
   "source": [
    "from sklearn.linear_model import LinearRegression\n",
    "from sklearn.linear_model import SGDRegressor\n",
    "from sklearn.neighbors import KNeighborsRegressor\n",
    "from sklearn.ensemble import RandomForestRegressor\n",
    "from sklearn.neural_network import MLPRegressor\n",
    "from sklearn.tree import DecisionTreeRegressor\n"
   ]
  },
  {
   "cell_type": "code",
   "execution_count": null,
   "id": "3f255e6e",
   "metadata": {},
   "outputs": [],
   "source": [
    "def models_automation(models, X_train1, y_train1,X_test1,y_test1):\n",
    "    for model in models:\n",
    "        model.fit(X_train1, y_train1)\n",
    "        print(f\"{model.__class__.__name__}: Train -> {model.score(X_train1, y_train1)}, Test -> {model.score(X_test1, y_test1)}\")\n"
   ]
  },
  {
   "cell_type": "code",
   "execution_count": null,
   "id": "c70dcab5",
   "metadata": {},
   "outputs": [],
   "source": [
    "model_list = [LinearRegression(),SGDRegressor(),KNeighborsRegressor(), MLPRegressor(),DecisionTreeRegressor(),RandomForestRegressor()]\n",
    "models_automation(model_list, X_train1, y_train1,X_test1,y_test1)"
   ]
  },
  {
   "cell_type": "markdown",
   "id": "f3a91889",
   "metadata": {},
   "source": [
    "### Optimize parameters for models"
   ]
  },
  {
   "cell_type": "code",
   "execution_count": null,
   "id": "1237974a",
   "metadata": {},
   "outputs": [],
   "source": [
    "model_list = [LinearRegression(),SGDRegressor(),KNeighborsRegressor(n_neighbors =9), MLPRegressor(solver = 'lbfgs', max_iter = 1500),DecisionTreeRegressor(criterion=\"poisson\"),\n",
    "              RandomForestRegressor(min_samples_split = 7,\n",
    "                                    min_samples_leaf = 6,\n",
    "                                    max_samples = 0.4,\n",
    "                                    max_depth = 14,\n",
    "                                    n_jobs = -1)]\n",
    "models_automation(model_list, X_train1, y_train1,X_test1,y_test1)"
   ]
  },
  {
   "cell_type": "code",
   "execution_count": null,
   "id": "1284f141",
   "metadata": {},
   "outputs": [],
   "source": []
  },
  {
   "cell_type": "code",
   "execution_count": null,
   "id": "67f89426",
   "metadata": {},
   "outputs": [],
   "source": []
  },
  {
   "cell_type": "code",
   "execution_count": null,
   "id": "090fc702",
   "metadata": {},
   "outputs": [],
   "source": []
  },
  {
   "cell_type": "code",
   "execution_count": null,
   "id": "5a0abb61",
   "metadata": {},
   "outputs": [],
   "source": []
  },
  {
   "cell_type": "code",
   "execution_count": null,
   "id": "467d700f",
   "metadata": {},
   "outputs": [],
   "source": []
  },
  {
   "cell_type": "code",
   "execution_count": null,
   "id": "c98845c2",
   "metadata": {},
   "outputs": [],
   "source": []
  },
  {
   "cell_type": "code",
   "execution_count": null,
   "id": "71b005ff",
   "metadata": {},
   "outputs": [],
   "source": []
  },
  {
   "cell_type": "code",
   "execution_count": null,
   "id": "caa5c3bc",
   "metadata": {},
   "outputs": [],
   "source": []
  },
  {
   "cell_type": "code",
   "execution_count": null,
   "id": "a5390f4d",
   "metadata": {},
   "outputs": [],
   "source": []
  },
  {
   "cell_type": "code",
   "execution_count": null,
   "id": "e973759f",
   "metadata": {},
   "outputs": [],
   "source": []
  },
  {
   "cell_type": "markdown",
   "id": "2083f177",
   "metadata": {},
   "source": [
    "## RFE option, not used."
   ]
  },
  {
   "cell_type": "code",
   "execution_count": null,
   "id": "dcdca2ff",
   "metadata": {},
   "outputs": [],
   "source": [
    "# from sklearn.feature_selection import RFE\n",
    "# from sklearn.tree import DecisionTreeClassifier\n",
    "# # define the method\n",
    "# rfe = RFE(estimator=DecisionTreeClassifier(), n_features_to_select=30)\n",
    "# # fit the model\n",
    "# rfe.fit(X_train, y_train)\n",
    "# # transform the data\n",
    "# X, y = rfe.transform(X_train, y_train)"
   ]
  },
  {
   "cell_type": "code",
   "execution_count": null,
   "id": "bdcef267",
   "metadata": {},
   "outputs": [],
   "source": [
    "# RandomForestRegressor(min_samples_split = 7,\n",
    "#                                     min_samples_leaf = 6,\n",
    "#                                     max_samples = 0.4,\n",
    "#                                     max_depth = 14,\n",
    "#                                     n_jobs = -1))"
   ]
  }
 ],
 "metadata": {
  "kernelspec": {
   "display_name": "Python 3 (ipykernel)",
   "language": "python",
   "name": "python3"
  },
  "language_info": {
   "codemirror_mode": {
    "name": "ipython",
    "version": 3
   },
   "file_extension": ".py",
   "mimetype": "text/x-python",
   "name": "python",
   "nbconvert_exporter": "python",
   "pygments_lexer": "ipython3",
   "version": "3.10.9"
  }
 },
 "nbformat": 4,
 "nbformat_minor": 5
}
